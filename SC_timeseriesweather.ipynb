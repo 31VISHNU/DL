{
  "nbformat": 4,
  "nbformat_minor": 0,
  "metadata": {
    "colab": {
      "provenance": []
    },
    "kernelspec": {
      "name": "python3",
      "display_name": "Python 3"
    },
    "language_info": {
      "name": "python"
    }
  },
  "cells": [
    {
      "cell_type": "code",
      "execution_count": null,
      "metadata": {
        "id": "1gSU-1vzRy0j"
      },
      "outputs": [],
      "source": [
        "import pandas as pd"
      ]
    },
    {
      "cell_type": "code",
      "source": [
        "df1 = pd.read_csv('/content/weather_features.csv')"
      ],
      "metadata": {
        "id": "5yLpjBM5TZEi"
      },
      "execution_count": null,
      "outputs": []
    },
    {
      "cell_type": "code",
      "source": [
        "df1.head()"
      ],
      "metadata": {
        "colab": {
          "base_uri": "https://localhost:8080/",
          "height": 357
        },
        "id": "G0yJkI_QWhV4",
        "outputId": "174744c6-74b9-48f6-80f1-91895be5af23"
      },
      "execution_count": null,
      "outputs": [
        {
          "output_type": "execute_result",
          "data": {
            "text/plain": [
              "                      dt_iso city_name     temp  temp_min  temp_max  pressure  \\\n",
              "0  2015-01-01 00:00:00+01:00  Valencia  270.475   270.475   270.475    1001.0   \n",
              "1  2015-01-01 01:00:00+01:00  Valencia  270.475   270.475   270.475    1001.0   \n",
              "2  2015-01-01 02:00:00+01:00  Valencia  269.686   269.686   269.686    1002.0   \n",
              "3  2015-01-01 03:00:00+01:00  Valencia  269.686   269.686   269.686    1002.0   \n",
              "4  2015-01-01 04:00:00+01:00  Valencia  269.686   269.686   269.686    1002.0   \n",
              "\n",
              "   humidity  wind_speed  wind_deg  rain_1h  rain_3h  snow_3h  clouds_all  \\\n",
              "0      77.0         1.0      62.0      0.0      0.0      0.0         0.0   \n",
              "1      77.0         1.0      62.0      0.0      0.0      0.0         0.0   \n",
              "2      78.0         0.0      23.0      0.0      0.0      0.0         0.0   \n",
              "3      78.0         0.0      23.0      0.0      0.0      0.0         0.0   \n",
              "4      78.0         0.0      23.0      0.0      0.0      0.0         0.0   \n",
              "\n",
              "   weather_id weather_main weather_description weather_icon  \n",
              "0       800.0        clear        sky is clear          01n  \n",
              "1       800.0        clear        sky is clear          01n  \n",
              "2       800.0        clear        sky is clear          01n  \n",
              "3       800.0        clear        sky is clear          01n  \n",
              "4       800.0        clear        sky is clear          01n  "
            ],
            "text/html": [
              "\n",
              "  <div id=\"df-236f6a37-16a2-4502-9743-8a94403d2f11\">\n",
              "    <div class=\"colab-df-container\">\n",
              "      <div>\n",
              "<style scoped>\n",
              "    .dataframe tbody tr th:only-of-type {\n",
              "        vertical-align: middle;\n",
              "    }\n",
              "\n",
              "    .dataframe tbody tr th {\n",
              "        vertical-align: top;\n",
              "    }\n",
              "\n",
              "    .dataframe thead th {\n",
              "        text-align: right;\n",
              "    }\n",
              "</style>\n",
              "<table border=\"1\" class=\"dataframe\">\n",
              "  <thead>\n",
              "    <tr style=\"text-align: right;\">\n",
              "      <th></th>\n",
              "      <th>dt_iso</th>\n",
              "      <th>city_name</th>\n",
              "      <th>temp</th>\n",
              "      <th>temp_min</th>\n",
              "      <th>temp_max</th>\n",
              "      <th>pressure</th>\n",
              "      <th>humidity</th>\n",
              "      <th>wind_speed</th>\n",
              "      <th>wind_deg</th>\n",
              "      <th>rain_1h</th>\n",
              "      <th>rain_3h</th>\n",
              "      <th>snow_3h</th>\n",
              "      <th>clouds_all</th>\n",
              "      <th>weather_id</th>\n",
              "      <th>weather_main</th>\n",
              "      <th>weather_description</th>\n",
              "      <th>weather_icon</th>\n",
              "    </tr>\n",
              "  </thead>\n",
              "  <tbody>\n",
              "    <tr>\n",
              "      <th>0</th>\n",
              "      <td>2015-01-01 00:00:00+01:00</td>\n",
              "      <td>Valencia</td>\n",
              "      <td>270.475</td>\n",
              "      <td>270.475</td>\n",
              "      <td>270.475</td>\n",
              "      <td>1001.0</td>\n",
              "      <td>77.0</td>\n",
              "      <td>1.0</td>\n",
              "      <td>62.0</td>\n",
              "      <td>0.0</td>\n",
              "      <td>0.0</td>\n",
              "      <td>0.0</td>\n",
              "      <td>0.0</td>\n",
              "      <td>800.0</td>\n",
              "      <td>clear</td>\n",
              "      <td>sky is clear</td>\n",
              "      <td>01n</td>\n",
              "    </tr>\n",
              "    <tr>\n",
              "      <th>1</th>\n",
              "      <td>2015-01-01 01:00:00+01:00</td>\n",
              "      <td>Valencia</td>\n",
              "      <td>270.475</td>\n",
              "      <td>270.475</td>\n",
              "      <td>270.475</td>\n",
              "      <td>1001.0</td>\n",
              "      <td>77.0</td>\n",
              "      <td>1.0</td>\n",
              "      <td>62.0</td>\n",
              "      <td>0.0</td>\n",
              "      <td>0.0</td>\n",
              "      <td>0.0</td>\n",
              "      <td>0.0</td>\n",
              "      <td>800.0</td>\n",
              "      <td>clear</td>\n",
              "      <td>sky is clear</td>\n",
              "      <td>01n</td>\n",
              "    </tr>\n",
              "    <tr>\n",
              "      <th>2</th>\n",
              "      <td>2015-01-01 02:00:00+01:00</td>\n",
              "      <td>Valencia</td>\n",
              "      <td>269.686</td>\n",
              "      <td>269.686</td>\n",
              "      <td>269.686</td>\n",
              "      <td>1002.0</td>\n",
              "      <td>78.0</td>\n",
              "      <td>0.0</td>\n",
              "      <td>23.0</td>\n",
              "      <td>0.0</td>\n",
              "      <td>0.0</td>\n",
              "      <td>0.0</td>\n",
              "      <td>0.0</td>\n",
              "      <td>800.0</td>\n",
              "      <td>clear</td>\n",
              "      <td>sky is clear</td>\n",
              "      <td>01n</td>\n",
              "    </tr>\n",
              "    <tr>\n",
              "      <th>3</th>\n",
              "      <td>2015-01-01 03:00:00+01:00</td>\n",
              "      <td>Valencia</td>\n",
              "      <td>269.686</td>\n",
              "      <td>269.686</td>\n",
              "      <td>269.686</td>\n",
              "      <td>1002.0</td>\n",
              "      <td>78.0</td>\n",
              "      <td>0.0</td>\n",
              "      <td>23.0</td>\n",
              "      <td>0.0</td>\n",
              "      <td>0.0</td>\n",
              "      <td>0.0</td>\n",
              "      <td>0.0</td>\n",
              "      <td>800.0</td>\n",
              "      <td>clear</td>\n",
              "      <td>sky is clear</td>\n",
              "      <td>01n</td>\n",
              "    </tr>\n",
              "    <tr>\n",
              "      <th>4</th>\n",
              "      <td>2015-01-01 04:00:00+01:00</td>\n",
              "      <td>Valencia</td>\n",
              "      <td>269.686</td>\n",
              "      <td>269.686</td>\n",
              "      <td>269.686</td>\n",
              "      <td>1002.0</td>\n",
              "      <td>78.0</td>\n",
              "      <td>0.0</td>\n",
              "      <td>23.0</td>\n",
              "      <td>0.0</td>\n",
              "      <td>0.0</td>\n",
              "      <td>0.0</td>\n",
              "      <td>0.0</td>\n",
              "      <td>800.0</td>\n",
              "      <td>clear</td>\n",
              "      <td>sky is clear</td>\n",
              "      <td>01n</td>\n",
              "    </tr>\n",
              "  </tbody>\n",
              "</table>\n",
              "</div>\n",
              "      <button class=\"colab-df-convert\" onclick=\"convertToInteractive('df-236f6a37-16a2-4502-9743-8a94403d2f11')\"\n",
              "              title=\"Convert this dataframe to an interactive table.\"\n",
              "              style=\"display:none;\">\n",
              "        \n",
              "  <svg xmlns=\"http://www.w3.org/2000/svg\" height=\"24px\"viewBox=\"0 0 24 24\"\n",
              "       width=\"24px\">\n",
              "    <path d=\"M0 0h24v24H0V0z\" fill=\"none\"/>\n",
              "    <path d=\"M18.56 5.44l.94 2.06.94-2.06 2.06-.94-2.06-.94-.94-2.06-.94 2.06-2.06.94zm-11 1L8.5 8.5l.94-2.06 2.06-.94-2.06-.94L8.5 2.5l-.94 2.06-2.06.94zm10 10l.94 2.06.94-2.06 2.06-.94-2.06-.94-.94-2.06-.94 2.06-2.06.94z\"/><path d=\"M17.41 7.96l-1.37-1.37c-.4-.4-.92-.59-1.43-.59-.52 0-1.04.2-1.43.59L10.3 9.45l-7.72 7.72c-.78.78-.78 2.05 0 2.83L4 21.41c.39.39.9.59 1.41.59.51 0 1.02-.2 1.41-.59l7.78-7.78 2.81-2.81c.8-.78.8-2.07 0-2.86zM5.41 20L4 18.59l7.72-7.72 1.47 1.35L5.41 20z\"/>\n",
              "  </svg>\n",
              "      </button>\n",
              "      \n",
              "  <style>\n",
              "    .colab-df-container {\n",
              "      display:flex;\n",
              "      flex-wrap:wrap;\n",
              "      gap: 12px;\n",
              "    }\n",
              "\n",
              "    .colab-df-convert {\n",
              "      background-color: #E8F0FE;\n",
              "      border: none;\n",
              "      border-radius: 50%;\n",
              "      cursor: pointer;\n",
              "      display: none;\n",
              "      fill: #1967D2;\n",
              "      height: 32px;\n",
              "      padding: 0 0 0 0;\n",
              "      width: 32px;\n",
              "    }\n",
              "\n",
              "    .colab-df-convert:hover {\n",
              "      background-color: #E2EBFA;\n",
              "      box-shadow: 0px 1px 2px rgba(60, 64, 67, 0.3), 0px 1px 3px 1px rgba(60, 64, 67, 0.15);\n",
              "      fill: #174EA6;\n",
              "    }\n",
              "\n",
              "    [theme=dark] .colab-df-convert {\n",
              "      background-color: #3B4455;\n",
              "      fill: #D2E3FC;\n",
              "    }\n",
              "\n",
              "    [theme=dark] .colab-df-convert:hover {\n",
              "      background-color: #434B5C;\n",
              "      box-shadow: 0px 1px 3px 1px rgba(0, 0, 0, 0.15);\n",
              "      filter: drop-shadow(0px 1px 2px rgba(0, 0, 0, 0.3));\n",
              "      fill: #FFFFFF;\n",
              "    }\n",
              "  </style>\n",
              "\n",
              "      <script>\n",
              "        const buttonEl =\n",
              "          document.querySelector('#df-236f6a37-16a2-4502-9743-8a94403d2f11 button.colab-df-convert');\n",
              "        buttonEl.style.display =\n",
              "          google.colab.kernel.accessAllowed ? 'block' : 'none';\n",
              "\n",
              "        async function convertToInteractive(key) {\n",
              "          const element = document.querySelector('#df-236f6a37-16a2-4502-9743-8a94403d2f11');\n",
              "          const dataTable =\n",
              "            await google.colab.kernel.invokeFunction('convertToInteractive',\n",
              "                                                     [key], {});\n",
              "          if (!dataTable) return;\n",
              "\n",
              "          const docLinkHtml = 'Like what you see? Visit the ' +\n",
              "            '<a target=\"_blank\" href=https://colab.research.google.com/notebooks/data_table.ipynb>data table notebook</a>'\n",
              "            + ' to learn more about interactive tables.';\n",
              "          element.innerHTML = '';\n",
              "          dataTable['output_type'] = 'display_data';\n",
              "          await google.colab.output.renderOutput(dataTable, element);\n",
              "          const docLink = document.createElement('div');\n",
              "          docLink.innerHTML = docLinkHtml;\n",
              "          element.appendChild(docLink);\n",
              "        }\n",
              "      </script>\n",
              "    </div>\n",
              "  </div>\n",
              "  "
            ]
          },
          "metadata": {},
          "execution_count": 3
        }
      ]
    },
    {
      "cell_type": "code",
      "source": [
        "df1.tail()"
      ],
      "metadata": {
        "colab": {
          "base_uri": "https://localhost:8080/",
          "height": 339
        },
        "id": "ixrGYYAhWkYp",
        "outputId": "963eacb3-2abc-4e87-8020-c555d2090243"
      },
      "execution_count": null,
      "outputs": [
        {
          "output_type": "execute_result",
          "data": {
            "text/plain": [
              "                           dt_iso city_name    temp  temp_min  temp_max  \\\n",
              "149869  2015-10-19 07:00:00+02:00   Seville  293.50    289.15    302.15   \n",
              "149870  2015-10-19 08:00:00+02:00   Seville  294.17    289.15    304.15   \n",
              "149871  2015-10-19 09:00:00+02:00   Seville  294.69    289.15    306.15   \n",
              "149872  2015-10-19 10:00:00+02:00   Seville  295.02    290.15    306.15   \n",
              "149873             2015-10-19 11:       NaN     NaN       NaN       NaN   \n",
              "\n",
              "        pressure  humidity  wind_speed  wind_deg  rain_1h  rain_3h  snow_3h  \\\n",
              "149869    1008.0      93.0         1.0      90.0      0.0      0.0      0.0   \n",
              "149870    1008.0      87.0         2.0      90.0      0.0      0.0      0.0   \n",
              "149871    1015.0      52.0         3.0     340.0      0.0      0.0      0.0   \n",
              "149872    1015.0      55.0         4.0     330.0      0.3      0.0      0.0   \n",
              "149873       NaN       NaN         NaN       NaN      NaN      NaN      NaN   \n",
              "\n",
              "        clouds_all  weather_id weather_main      weather_description  \\\n",
              "149869        40.0       802.0       clouds         scattered clouds   \n",
              "149870        40.0       300.0      drizzle  light intensity drizzle   \n",
              "149871        88.0       300.0      drizzle  light intensity drizzle   \n",
              "149872        92.0       500.0         rain               light rain   \n",
              "149873         NaN         NaN          NaN                      NaN   \n",
              "\n",
              "       weather_icon  \n",
              "149869          03n  \n",
              "149870          09n  \n",
              "149871          09d  \n",
              "149872          10d  \n",
              "149873          NaN  "
            ],
            "text/html": [
              "\n",
              "  <div id=\"df-1b813c34-e216-459e-9334-159102387ddc\">\n",
              "    <div class=\"colab-df-container\">\n",
              "      <div>\n",
              "<style scoped>\n",
              "    .dataframe tbody tr th:only-of-type {\n",
              "        vertical-align: middle;\n",
              "    }\n",
              "\n",
              "    .dataframe tbody tr th {\n",
              "        vertical-align: top;\n",
              "    }\n",
              "\n",
              "    .dataframe thead th {\n",
              "        text-align: right;\n",
              "    }\n",
              "</style>\n",
              "<table border=\"1\" class=\"dataframe\">\n",
              "  <thead>\n",
              "    <tr style=\"text-align: right;\">\n",
              "      <th></th>\n",
              "      <th>dt_iso</th>\n",
              "      <th>city_name</th>\n",
              "      <th>temp</th>\n",
              "      <th>temp_min</th>\n",
              "      <th>temp_max</th>\n",
              "      <th>pressure</th>\n",
              "      <th>humidity</th>\n",
              "      <th>wind_speed</th>\n",
              "      <th>wind_deg</th>\n",
              "      <th>rain_1h</th>\n",
              "      <th>rain_3h</th>\n",
              "      <th>snow_3h</th>\n",
              "      <th>clouds_all</th>\n",
              "      <th>weather_id</th>\n",
              "      <th>weather_main</th>\n",
              "      <th>weather_description</th>\n",
              "      <th>weather_icon</th>\n",
              "    </tr>\n",
              "  </thead>\n",
              "  <tbody>\n",
              "    <tr>\n",
              "      <th>149869</th>\n",
              "      <td>2015-10-19 07:00:00+02:00</td>\n",
              "      <td>Seville</td>\n",
              "      <td>293.50</td>\n",
              "      <td>289.15</td>\n",
              "      <td>302.15</td>\n",
              "      <td>1008.0</td>\n",
              "      <td>93.0</td>\n",
              "      <td>1.0</td>\n",
              "      <td>90.0</td>\n",
              "      <td>0.0</td>\n",
              "      <td>0.0</td>\n",
              "      <td>0.0</td>\n",
              "      <td>40.0</td>\n",
              "      <td>802.0</td>\n",
              "      <td>clouds</td>\n",
              "      <td>scattered clouds</td>\n",
              "      <td>03n</td>\n",
              "    </tr>\n",
              "    <tr>\n",
              "      <th>149870</th>\n",
              "      <td>2015-10-19 08:00:00+02:00</td>\n",
              "      <td>Seville</td>\n",
              "      <td>294.17</td>\n",
              "      <td>289.15</td>\n",
              "      <td>304.15</td>\n",
              "      <td>1008.0</td>\n",
              "      <td>87.0</td>\n",
              "      <td>2.0</td>\n",
              "      <td>90.0</td>\n",
              "      <td>0.0</td>\n",
              "      <td>0.0</td>\n",
              "      <td>0.0</td>\n",
              "      <td>40.0</td>\n",
              "      <td>300.0</td>\n",
              "      <td>drizzle</td>\n",
              "      <td>light intensity drizzle</td>\n",
              "      <td>09n</td>\n",
              "    </tr>\n",
              "    <tr>\n",
              "      <th>149871</th>\n",
              "      <td>2015-10-19 09:00:00+02:00</td>\n",
              "      <td>Seville</td>\n",
              "      <td>294.69</td>\n",
              "      <td>289.15</td>\n",
              "      <td>306.15</td>\n",
              "      <td>1015.0</td>\n",
              "      <td>52.0</td>\n",
              "      <td>3.0</td>\n",
              "      <td>340.0</td>\n",
              "      <td>0.0</td>\n",
              "      <td>0.0</td>\n",
              "      <td>0.0</td>\n",
              "      <td>88.0</td>\n",
              "      <td>300.0</td>\n",
              "      <td>drizzle</td>\n",
              "      <td>light intensity drizzle</td>\n",
              "      <td>09d</td>\n",
              "    </tr>\n",
              "    <tr>\n",
              "      <th>149872</th>\n",
              "      <td>2015-10-19 10:00:00+02:00</td>\n",
              "      <td>Seville</td>\n",
              "      <td>295.02</td>\n",
              "      <td>290.15</td>\n",
              "      <td>306.15</td>\n",
              "      <td>1015.0</td>\n",
              "      <td>55.0</td>\n",
              "      <td>4.0</td>\n",
              "      <td>330.0</td>\n",
              "      <td>0.3</td>\n",
              "      <td>0.0</td>\n",
              "      <td>0.0</td>\n",
              "      <td>92.0</td>\n",
              "      <td>500.0</td>\n",
              "      <td>rain</td>\n",
              "      <td>light rain</td>\n",
              "      <td>10d</td>\n",
              "    </tr>\n",
              "    <tr>\n",
              "      <th>149873</th>\n",
              "      <td>2015-10-19 11:</td>\n",
              "      <td>NaN</td>\n",
              "      <td>NaN</td>\n",
              "      <td>NaN</td>\n",
              "      <td>NaN</td>\n",
              "      <td>NaN</td>\n",
              "      <td>NaN</td>\n",
              "      <td>NaN</td>\n",
              "      <td>NaN</td>\n",
              "      <td>NaN</td>\n",
              "      <td>NaN</td>\n",
              "      <td>NaN</td>\n",
              "      <td>NaN</td>\n",
              "      <td>NaN</td>\n",
              "      <td>NaN</td>\n",
              "      <td>NaN</td>\n",
              "      <td>NaN</td>\n",
              "    </tr>\n",
              "  </tbody>\n",
              "</table>\n",
              "</div>\n",
              "      <button class=\"colab-df-convert\" onclick=\"convertToInteractive('df-1b813c34-e216-459e-9334-159102387ddc')\"\n",
              "              title=\"Convert this dataframe to an interactive table.\"\n",
              "              style=\"display:none;\">\n",
              "        \n",
              "  <svg xmlns=\"http://www.w3.org/2000/svg\" height=\"24px\"viewBox=\"0 0 24 24\"\n",
              "       width=\"24px\">\n",
              "    <path d=\"M0 0h24v24H0V0z\" fill=\"none\"/>\n",
              "    <path d=\"M18.56 5.44l.94 2.06.94-2.06 2.06-.94-2.06-.94-.94-2.06-.94 2.06-2.06.94zm-11 1L8.5 8.5l.94-2.06 2.06-.94-2.06-.94L8.5 2.5l-.94 2.06-2.06.94zm10 10l.94 2.06.94-2.06 2.06-.94-2.06-.94-.94-2.06-.94 2.06-2.06.94z\"/><path d=\"M17.41 7.96l-1.37-1.37c-.4-.4-.92-.59-1.43-.59-.52 0-1.04.2-1.43.59L10.3 9.45l-7.72 7.72c-.78.78-.78 2.05 0 2.83L4 21.41c.39.39.9.59 1.41.59.51 0 1.02-.2 1.41-.59l7.78-7.78 2.81-2.81c.8-.78.8-2.07 0-2.86zM5.41 20L4 18.59l7.72-7.72 1.47 1.35L5.41 20z\"/>\n",
              "  </svg>\n",
              "      </button>\n",
              "      \n",
              "  <style>\n",
              "    .colab-df-container {\n",
              "      display:flex;\n",
              "      flex-wrap:wrap;\n",
              "      gap: 12px;\n",
              "    }\n",
              "\n",
              "    .colab-df-convert {\n",
              "      background-color: #E8F0FE;\n",
              "      border: none;\n",
              "      border-radius: 50%;\n",
              "      cursor: pointer;\n",
              "      display: none;\n",
              "      fill: #1967D2;\n",
              "      height: 32px;\n",
              "      padding: 0 0 0 0;\n",
              "      width: 32px;\n",
              "    }\n",
              "\n",
              "    .colab-df-convert:hover {\n",
              "      background-color: #E2EBFA;\n",
              "      box-shadow: 0px 1px 2px rgba(60, 64, 67, 0.3), 0px 1px 3px 1px rgba(60, 64, 67, 0.15);\n",
              "      fill: #174EA6;\n",
              "    }\n",
              "\n",
              "    [theme=dark] .colab-df-convert {\n",
              "      background-color: #3B4455;\n",
              "      fill: #D2E3FC;\n",
              "    }\n",
              "\n",
              "    [theme=dark] .colab-df-convert:hover {\n",
              "      background-color: #434B5C;\n",
              "      box-shadow: 0px 1px 3px 1px rgba(0, 0, 0, 0.15);\n",
              "      filter: drop-shadow(0px 1px 2px rgba(0, 0, 0, 0.3));\n",
              "      fill: #FFFFFF;\n",
              "    }\n",
              "  </style>\n",
              "\n",
              "      <script>\n",
              "        const buttonEl =\n",
              "          document.querySelector('#df-1b813c34-e216-459e-9334-159102387ddc button.colab-df-convert');\n",
              "        buttonEl.style.display =\n",
              "          google.colab.kernel.accessAllowed ? 'block' : 'none';\n",
              "\n",
              "        async function convertToInteractive(key) {\n",
              "          const element = document.querySelector('#df-1b813c34-e216-459e-9334-159102387ddc');\n",
              "          const dataTable =\n",
              "            await google.colab.kernel.invokeFunction('convertToInteractive',\n",
              "                                                     [key], {});\n",
              "          if (!dataTable) return;\n",
              "\n",
              "          const docLinkHtml = 'Like what you see? Visit the ' +\n",
              "            '<a target=\"_blank\" href=https://colab.research.google.com/notebooks/data_table.ipynb>data table notebook</a>'\n",
              "            + ' to learn more about interactive tables.';\n",
              "          element.innerHTML = '';\n",
              "          dataTable['output_type'] = 'display_data';\n",
              "          await google.colab.output.renderOutput(dataTable, element);\n",
              "          const docLink = document.createElement('div');\n",
              "          docLink.innerHTML = docLinkHtml;\n",
              "          element.appendChild(docLink);\n",
              "        }\n",
              "      </script>\n",
              "    </div>\n",
              "  </div>\n",
              "  "
            ]
          },
          "metadata": {},
          "execution_count": 4
        }
      ]
    },
    {
      "cell_type": "code",
      "source": [
        "df1.shape"
      ],
      "metadata": {
        "colab": {
          "base_uri": "https://localhost:8080/"
        },
        "id": "-3H6lifhWqHC",
        "outputId": "dd32e843-2015-4df4-d67a-a433f2325282"
      },
      "execution_count": null,
      "outputs": [
        {
          "output_type": "execute_result",
          "data": {
            "text/plain": [
              "(149874, 17)"
            ]
          },
          "metadata": {},
          "execution_count": 5
        }
      ]
    },
    {
      "cell_type": "code",
      "source": [
        "df1.columns"
      ],
      "metadata": {
        "colab": {
          "base_uri": "https://localhost:8080/"
        },
        "id": "DQnm4zGzWuwa",
        "outputId": "3140e092-024a-4735-96c2-344c284a9f7c"
      },
      "execution_count": null,
      "outputs": [
        {
          "output_type": "execute_result",
          "data": {
            "text/plain": [
              "Index(['dt_iso', 'city_name', 'temp', 'temp_min', 'temp_max', 'pressure',\n",
              "       'humidity', 'wind_speed', 'wind_deg', 'rain_1h', 'rain_3h', 'snow_3h',\n",
              "       'clouds_all', 'weather_id', 'weather_main', 'weather_description',\n",
              "       'weather_icon'],\n",
              "      dtype='object')"
            ]
          },
          "metadata": {},
          "execution_count": 6
        }
      ]
    },
    {
      "cell_type": "code",
      "source": [
        "df1.duplicated().sum()"
      ],
      "metadata": {
        "colab": {
          "base_uri": "https://localhost:8080/"
        },
        "id": "34dmOT0OWxA5",
        "outputId": "5744cc11-5a44-4a9e-d449-24d50720d68d"
      },
      "execution_count": null,
      "outputs": [
        {
          "output_type": "execute_result",
          "data": {
            "text/plain": [
              "18"
            ]
          },
          "metadata": {},
          "execution_count": 7
        }
      ]
    },
    {
      "cell_type": "code",
      "source": [
        "df1.isnull().sum()"
      ],
      "metadata": {
        "colab": {
          "base_uri": "https://localhost:8080/"
        },
        "id": "V5nECE2hWyza",
        "outputId": "38258f95-a712-4690-85ad-03da037b59fc"
      },
      "execution_count": null,
      "outputs": [
        {
          "output_type": "execute_result",
          "data": {
            "text/plain": [
              "dt_iso                 0\n",
              "city_name              1\n",
              "temp                   1\n",
              "temp_min               1\n",
              "temp_max               1\n",
              "pressure               1\n",
              "humidity               1\n",
              "wind_speed             1\n",
              "wind_deg               1\n",
              "rain_1h                1\n",
              "rain_3h                1\n",
              "snow_3h                1\n",
              "clouds_all             1\n",
              "weather_id             1\n",
              "weather_main           1\n",
              "weather_description    1\n",
              "weather_icon           1\n",
              "dtype: int64"
            ]
          },
          "metadata": {},
          "execution_count": 8
        }
      ]
    },
    {
      "cell_type": "code",
      "source": [
        "df1.info()"
      ],
      "metadata": {
        "colab": {
          "base_uri": "https://localhost:8080/"
        },
        "id": "k8cNoLD0W2Wc",
        "outputId": "8a67daaf-3571-4ec9-8bff-7851f1413c8b"
      },
      "execution_count": null,
      "outputs": [
        {
          "output_type": "stream",
          "name": "stdout",
          "text": [
            "<class 'pandas.core.frame.DataFrame'>\n",
            "RangeIndex: 149874 entries, 0 to 149873\n",
            "Data columns (total 17 columns):\n",
            " #   Column               Non-Null Count   Dtype  \n",
            "---  ------               --------------   -----  \n",
            " 0   dt_iso               149874 non-null  object \n",
            " 1   city_name            149873 non-null  object \n",
            " 2   temp                 149873 non-null  float64\n",
            " 3   temp_min             149873 non-null  float64\n",
            " 4   temp_max             149873 non-null  float64\n",
            " 5   pressure             149873 non-null  float64\n",
            " 6   humidity             149873 non-null  float64\n",
            " 7   wind_speed           149873 non-null  float64\n",
            " 8   wind_deg             149873 non-null  float64\n",
            " 9   rain_1h              149873 non-null  float64\n",
            " 10  rain_3h              149873 non-null  float64\n",
            " 11  snow_3h              149873 non-null  float64\n",
            " 12  clouds_all           149873 non-null  float64\n",
            " 13  weather_id           149873 non-null  float64\n",
            " 14  weather_main         149873 non-null  object \n",
            " 15  weather_description  149873 non-null  object \n",
            " 16  weather_icon         149873 non-null  object \n",
            "dtypes: float64(12), object(5)\n",
            "memory usage: 19.4+ MB\n"
          ]
        }
      ]
    },
    {
      "cell_type": "code",
      "source": [
        "df1.describe()"
      ],
      "metadata": {
        "colab": {
          "base_uri": "https://localhost:8080/",
          "height": 364
        },
        "id": "ukuXe6zBYpYy",
        "outputId": "e647365e-d880-4f6f-a817-cdfca3776f91"
      },
      "execution_count": null,
      "outputs": [
        {
          "output_type": "execute_result",
          "data": {
            "text/plain": [
              "                temp       temp_min      temp_max      pressure  \\\n",
              "count  149873.000000  149873.000000  149873.00000  1.498730e+05   \n",
              "mean      289.026077     287.861820     290.23222  1.078970e+03   \n",
              "std         7.966718       7.838198       8.41733  6.512918e+03   \n",
              "min       262.240000     262.240000     262.24000  0.000000e+00   \n",
              "25%       283.150000     282.150000     284.15000  1.013000e+03   \n",
              "50%       288.340000     287.172000     289.15000  1.018000e+03   \n",
              "75%       294.660000     293.150000     296.15000  1.022000e+03   \n",
              "max       314.330000     313.150000     321.15000  1.008371e+06   \n",
              "\n",
              "            humidity     wind_speed       wind_deg        rain_1h  \\\n",
              "count  149873.000000  149873.000000  149873.000000  149873.000000   \n",
              "mean       69.043977       2.477878     170.268701       0.081704   \n",
              "std        21.683017       2.134429     118.361428       0.424125   \n",
              "min         0.000000       0.000000       0.000000       0.000000   \n",
              "25%        54.000000       1.000000      60.000000       0.000000   \n",
              "50%        72.000000       2.000000     180.000000       0.000000   \n",
              "75%        87.000000       4.000000     280.000000       0.000000   \n",
              "max       100.000000     133.000000     360.000000      12.000000   \n",
              "\n",
              "             rain_3h        snow_3h     clouds_all     weather_id  \n",
              "count  149873.000000  149873.000000  149873.000000  149873.000000  \n",
              "mean        0.000442       0.005669      27.117019     757.513455  \n",
              "std         0.007921       0.242854      31.129726     111.739016  \n",
              "min         0.000000       0.000000       0.000000     200.000000  \n",
              "25%         0.000000       0.000000       0.000000     800.000000  \n",
              "50%         0.000000       0.000000      20.000000     800.000000  \n",
              "75%         0.000000       0.000000      40.000000     801.000000  \n",
              "max         2.315000      21.500000     100.000000     804.000000  "
            ],
            "text/html": [
              "\n",
              "  <div id=\"df-0a49f3e2-c55c-4901-a9ba-a0a51afd3e6c\">\n",
              "    <div class=\"colab-df-container\">\n",
              "      <div>\n",
              "<style scoped>\n",
              "    .dataframe tbody tr th:only-of-type {\n",
              "        vertical-align: middle;\n",
              "    }\n",
              "\n",
              "    .dataframe tbody tr th {\n",
              "        vertical-align: top;\n",
              "    }\n",
              "\n",
              "    .dataframe thead th {\n",
              "        text-align: right;\n",
              "    }\n",
              "</style>\n",
              "<table border=\"1\" class=\"dataframe\">\n",
              "  <thead>\n",
              "    <tr style=\"text-align: right;\">\n",
              "      <th></th>\n",
              "      <th>temp</th>\n",
              "      <th>temp_min</th>\n",
              "      <th>temp_max</th>\n",
              "      <th>pressure</th>\n",
              "      <th>humidity</th>\n",
              "      <th>wind_speed</th>\n",
              "      <th>wind_deg</th>\n",
              "      <th>rain_1h</th>\n",
              "      <th>rain_3h</th>\n",
              "      <th>snow_3h</th>\n",
              "      <th>clouds_all</th>\n",
              "      <th>weather_id</th>\n",
              "    </tr>\n",
              "  </thead>\n",
              "  <tbody>\n",
              "    <tr>\n",
              "      <th>count</th>\n",
              "      <td>149873.000000</td>\n",
              "      <td>149873.000000</td>\n",
              "      <td>149873.00000</td>\n",
              "      <td>1.498730e+05</td>\n",
              "      <td>149873.000000</td>\n",
              "      <td>149873.000000</td>\n",
              "      <td>149873.000000</td>\n",
              "      <td>149873.000000</td>\n",
              "      <td>149873.000000</td>\n",
              "      <td>149873.000000</td>\n",
              "      <td>149873.000000</td>\n",
              "      <td>149873.000000</td>\n",
              "    </tr>\n",
              "    <tr>\n",
              "      <th>mean</th>\n",
              "      <td>289.026077</td>\n",
              "      <td>287.861820</td>\n",
              "      <td>290.23222</td>\n",
              "      <td>1.078970e+03</td>\n",
              "      <td>69.043977</td>\n",
              "      <td>2.477878</td>\n",
              "      <td>170.268701</td>\n",
              "      <td>0.081704</td>\n",
              "      <td>0.000442</td>\n",
              "      <td>0.005669</td>\n",
              "      <td>27.117019</td>\n",
              "      <td>757.513455</td>\n",
              "    </tr>\n",
              "    <tr>\n",
              "      <th>std</th>\n",
              "      <td>7.966718</td>\n",
              "      <td>7.838198</td>\n",
              "      <td>8.41733</td>\n",
              "      <td>6.512918e+03</td>\n",
              "      <td>21.683017</td>\n",
              "      <td>2.134429</td>\n",
              "      <td>118.361428</td>\n",
              "      <td>0.424125</td>\n",
              "      <td>0.007921</td>\n",
              "      <td>0.242854</td>\n",
              "      <td>31.129726</td>\n",
              "      <td>111.739016</td>\n",
              "    </tr>\n",
              "    <tr>\n",
              "      <th>min</th>\n",
              "      <td>262.240000</td>\n",
              "      <td>262.240000</td>\n",
              "      <td>262.24000</td>\n",
              "      <td>0.000000e+00</td>\n",
              "      <td>0.000000</td>\n",
              "      <td>0.000000</td>\n",
              "      <td>0.000000</td>\n",
              "      <td>0.000000</td>\n",
              "      <td>0.000000</td>\n",
              "      <td>0.000000</td>\n",
              "      <td>0.000000</td>\n",
              "      <td>200.000000</td>\n",
              "    </tr>\n",
              "    <tr>\n",
              "      <th>25%</th>\n",
              "      <td>283.150000</td>\n",
              "      <td>282.150000</td>\n",
              "      <td>284.15000</td>\n",
              "      <td>1.013000e+03</td>\n",
              "      <td>54.000000</td>\n",
              "      <td>1.000000</td>\n",
              "      <td>60.000000</td>\n",
              "      <td>0.000000</td>\n",
              "      <td>0.000000</td>\n",
              "      <td>0.000000</td>\n",
              "      <td>0.000000</td>\n",
              "      <td>800.000000</td>\n",
              "    </tr>\n",
              "    <tr>\n",
              "      <th>50%</th>\n",
              "      <td>288.340000</td>\n",
              "      <td>287.172000</td>\n",
              "      <td>289.15000</td>\n",
              "      <td>1.018000e+03</td>\n",
              "      <td>72.000000</td>\n",
              "      <td>2.000000</td>\n",
              "      <td>180.000000</td>\n",
              "      <td>0.000000</td>\n",
              "      <td>0.000000</td>\n",
              "      <td>0.000000</td>\n",
              "      <td>20.000000</td>\n",
              "      <td>800.000000</td>\n",
              "    </tr>\n",
              "    <tr>\n",
              "      <th>75%</th>\n",
              "      <td>294.660000</td>\n",
              "      <td>293.150000</td>\n",
              "      <td>296.15000</td>\n",
              "      <td>1.022000e+03</td>\n",
              "      <td>87.000000</td>\n",
              "      <td>4.000000</td>\n",
              "      <td>280.000000</td>\n",
              "      <td>0.000000</td>\n",
              "      <td>0.000000</td>\n",
              "      <td>0.000000</td>\n",
              "      <td>40.000000</td>\n",
              "      <td>801.000000</td>\n",
              "    </tr>\n",
              "    <tr>\n",
              "      <th>max</th>\n",
              "      <td>314.330000</td>\n",
              "      <td>313.150000</td>\n",
              "      <td>321.15000</td>\n",
              "      <td>1.008371e+06</td>\n",
              "      <td>100.000000</td>\n",
              "      <td>133.000000</td>\n",
              "      <td>360.000000</td>\n",
              "      <td>12.000000</td>\n",
              "      <td>2.315000</td>\n",
              "      <td>21.500000</td>\n",
              "      <td>100.000000</td>\n",
              "      <td>804.000000</td>\n",
              "    </tr>\n",
              "  </tbody>\n",
              "</table>\n",
              "</div>\n",
              "      <button class=\"colab-df-convert\" onclick=\"convertToInteractive('df-0a49f3e2-c55c-4901-a9ba-a0a51afd3e6c')\"\n",
              "              title=\"Convert this dataframe to an interactive table.\"\n",
              "              style=\"display:none;\">\n",
              "        \n",
              "  <svg xmlns=\"http://www.w3.org/2000/svg\" height=\"24px\"viewBox=\"0 0 24 24\"\n",
              "       width=\"24px\">\n",
              "    <path d=\"M0 0h24v24H0V0z\" fill=\"none\"/>\n",
              "    <path d=\"M18.56 5.44l.94 2.06.94-2.06 2.06-.94-2.06-.94-.94-2.06-.94 2.06-2.06.94zm-11 1L8.5 8.5l.94-2.06 2.06-.94-2.06-.94L8.5 2.5l-.94 2.06-2.06.94zm10 10l.94 2.06.94-2.06 2.06-.94-2.06-.94-.94-2.06-.94 2.06-2.06.94z\"/><path d=\"M17.41 7.96l-1.37-1.37c-.4-.4-.92-.59-1.43-.59-.52 0-1.04.2-1.43.59L10.3 9.45l-7.72 7.72c-.78.78-.78 2.05 0 2.83L4 21.41c.39.39.9.59 1.41.59.51 0 1.02-.2 1.41-.59l7.78-7.78 2.81-2.81c.8-.78.8-2.07 0-2.86zM5.41 20L4 18.59l7.72-7.72 1.47 1.35L5.41 20z\"/>\n",
              "  </svg>\n",
              "      </button>\n",
              "      \n",
              "  <style>\n",
              "    .colab-df-container {\n",
              "      display:flex;\n",
              "      flex-wrap:wrap;\n",
              "      gap: 12px;\n",
              "    }\n",
              "\n",
              "    .colab-df-convert {\n",
              "      background-color: #E8F0FE;\n",
              "      border: none;\n",
              "      border-radius: 50%;\n",
              "      cursor: pointer;\n",
              "      display: none;\n",
              "      fill: #1967D2;\n",
              "      height: 32px;\n",
              "      padding: 0 0 0 0;\n",
              "      width: 32px;\n",
              "    }\n",
              "\n",
              "    .colab-df-convert:hover {\n",
              "      background-color: #E2EBFA;\n",
              "      box-shadow: 0px 1px 2px rgba(60, 64, 67, 0.3), 0px 1px 3px 1px rgba(60, 64, 67, 0.15);\n",
              "      fill: #174EA6;\n",
              "    }\n",
              "\n",
              "    [theme=dark] .colab-df-convert {\n",
              "      background-color: #3B4455;\n",
              "      fill: #D2E3FC;\n",
              "    }\n",
              "\n",
              "    [theme=dark] .colab-df-convert:hover {\n",
              "      background-color: #434B5C;\n",
              "      box-shadow: 0px 1px 3px 1px rgba(0, 0, 0, 0.15);\n",
              "      filter: drop-shadow(0px 1px 2px rgba(0, 0, 0, 0.3));\n",
              "      fill: #FFFFFF;\n",
              "    }\n",
              "  </style>\n",
              "\n",
              "      <script>\n",
              "        const buttonEl =\n",
              "          document.querySelector('#df-0a49f3e2-c55c-4901-a9ba-a0a51afd3e6c button.colab-df-convert');\n",
              "        buttonEl.style.display =\n",
              "          google.colab.kernel.accessAllowed ? 'block' : 'none';\n",
              "\n",
              "        async function convertToInteractive(key) {\n",
              "          const element = document.querySelector('#df-0a49f3e2-c55c-4901-a9ba-a0a51afd3e6c');\n",
              "          const dataTable =\n",
              "            await google.colab.kernel.invokeFunction('convertToInteractive',\n",
              "                                                     [key], {});\n",
              "          if (!dataTable) return;\n",
              "\n",
              "          const docLinkHtml = 'Like what you see? Visit the ' +\n",
              "            '<a target=\"_blank\" href=https://colab.research.google.com/notebooks/data_table.ipynb>data table notebook</a>'\n",
              "            + ' to learn more about interactive tables.';\n",
              "          element.innerHTML = '';\n",
              "          dataTable['output_type'] = 'display_data';\n",
              "          await google.colab.output.renderOutput(dataTable, element);\n",
              "          const docLink = document.createElement('div');\n",
              "          docLink.innerHTML = docLinkHtml;\n",
              "          element.appendChild(docLink);\n",
              "        }\n",
              "      </script>\n",
              "    </div>\n",
              "  </div>\n",
              "  "
            ]
          },
          "metadata": {},
          "execution_count": 10
        }
      ]
    },
    {
      "cell_type": "code",
      "source": [
        "df1.nunique()"
      ],
      "metadata": {
        "colab": {
          "base_uri": "https://localhost:8080/"
        },
        "id": "UeT__qpzY0iZ",
        "outputId": "a64466be-ccc8-4a9b-f75b-affa5910abad"
      },
      "execution_count": null,
      "outputs": [
        {
          "output_type": "execute_result",
          "data": {
            "text/plain": [
              "dt_iso                 35065\n",
              "city_name                  5\n",
              "temp                   19508\n",
              "temp_min               17205\n",
              "temp_max               17245\n",
              "pressure                 190\n",
              "humidity                 100\n",
              "wind_speed                36\n",
              "wind_deg                 361\n",
              "rain_1h                    7\n",
              "rain_3h                   89\n",
              "snow_3h                   66\n",
              "clouds_all                97\n",
              "weather_id                37\n",
              "weather_main              11\n",
              "weather_description       42\n",
              "weather_icon              24\n",
              "dtype: int64"
            ]
          },
          "metadata": {},
          "execution_count": 11
        }
      ]
    },
    {
      "cell_type": "code",
      "source": [
        "import matplotlib.pyplot as plt\n",
        "import seaborn as sns"
      ],
      "metadata": {
        "id": "hV7RdKVMY3NB"
      },
      "execution_count": null,
      "outputs": []
    },
    {
      "cell_type": "code",
      "source": [
        "df1['weather_main'].unique()"
      ],
      "metadata": {
        "colab": {
          "base_uri": "https://localhost:8080/"
        },
        "id": "Yllib9bNY6cy",
        "outputId": "3242fc6e-e336-4fba-b03d-4878f5f1e4db"
      },
      "execution_count": null,
      "outputs": [
        {
          "output_type": "execute_result",
          "data": {
            "text/plain": [
              "array(['clear', 'clouds', 'rain', 'mist', 'thunderstorm', 'drizzle',\n",
              "       'fog', 'smoke', 'haze', 'snow', 'dust', nan], dtype=object)"
            ]
          },
          "metadata": {},
          "execution_count": 13
        }
      ]
    },
    {
      "cell_type": "code",
      "source": [
        "df1['weather_main'].value_counts()"
      ],
      "metadata": {
        "colab": {
          "base_uri": "https://localhost:8080/"
        },
        "id": "FiETBjk-Y8Di",
        "outputId": "42229822-f522-4f43-d6eb-043aaa364068"
      },
      "execution_count": null,
      "outputs": [
        {
          "output_type": "execute_result",
          "data": {
            "text/plain": [
              "clear           63571\n",
              "clouds          62366\n",
              "rain            15732\n",
              "mist             3126\n",
              "fog              2026\n",
              "drizzle          1502\n",
              "thunderstorm      917\n",
              "snow              270\n",
              "haze              180\n",
              "dust              169\n",
              "smoke              14\n",
              "Name: weather_main, dtype: int64"
            ]
          },
          "metadata": {},
          "execution_count": 14
        }
      ]
    },
    {
      "cell_type": "code",
      "source": [
        "plt.figure(figsize=[15,7],)\n",
        "sns.countplot(x = 'weather_main', data = df1, palette = 'hls')\n",
        "plt.show()"
      ],
      "metadata": {
        "colab": {
          "base_uri": "https://localhost:8080/",
          "height": 443
        },
        "id": "YrJFu1_fY9oQ",
        "outputId": "8ff9f4f9-00a8-4dcb-a0c6-888c41b8e4b3"
      },
      "execution_count": null,
      "outputs": [
        {
          "output_type": "display_data",
          "data": {
            "text/plain": [
              "<Figure size 1080x504 with 1 Axes>"
            ],
            "image/png": "[encoded data removed]"
          },
          "metadata": {
            "needs_background": "light"
          }
        }
      ]
    },
    {
      "cell_type": "code",
      "source": [
        "Month_data = df1['weather_main'].value_counts()\n",
        "explode = (0.1, 0.1)\n",
        "plt.figure(figsize=(14, 10))\n",
        "patches, texts, pcts = plt.pie(Month_data,\n",
        "labels = Month_data.index,\n",
        "colors = ['blue', 'red','yellow','orange','purple','white','black'],\n",
        "pctdistance = 0.65,\n",
        "shadow = True,\n",
        "startangle = 90,\n",
        "autopct = '%1.1f%%',\n",
        "textprops={ 'fontsize': 25,\n",
        "'color': 'black',\n",
        "'weight': 'bold',\n",
        "'family': 'serif' })\n",
        "\n",
        "plt.setp(pcts, color='white')\n",
        "hfont = {'fontname':'serif', 'weight': 'bold'}\n",
        "plt.title('Month', size=20, **hfont)\n",
        "centre_circle = plt.Circle((0,0),0.40,fc='white')\n",
        "fig = plt.gcf()\n",
        "fig.gca().add_artist(centre_circle)\n",
        "plt.show()"
      ],
      "metadata": {
        "colab": {
          "base_uri": "https://localhost:8080/",
          "height": 597
        },
        "id": "ns-W19moZBo6",
        "outputId": "e0ec8ab5-7606-485e-fd1f-197748bea20e"
      },
      "execution_count": null,
      "outputs": [
        {
          "output_type": "display_data",
          "data": {
            "text/plain": [
              "<Figure size 1008x720 with 1 Axes>"
            ],
            "image/png": "[encoded data removed]"
          },
          "metadata": {}
        }
      ]
    },
    {
      "cell_type": "code",
      "source": [
        "df1['city_name'].unique()\n",
        "df1['city_name'].value_counts()\n",
        "df2 = df1.copy()\n",
        "df2 = df2.set_index('city_name')"
      ],
      "metadata": {
        "id": "WMSAkV2bZWRo"
      },
      "execution_count": null,
      "outputs": []
    },
    {
      "cell_type": "code",
      "source": [
        "df2.head()"
      ],
      "metadata": {
        "colab": {
          "base_uri": "https://localhost:8080/",
          "height": 388
        },
        "id": "nt_rZIxoZafa",
        "outputId": "3813b7ba-023a-4d77-891b-7c4ed97da41f"
      },
      "execution_count": null,
      "outputs": [
        {
          "output_type": "execute_result",
          "data": {
            "text/plain": [
              "                              dt_iso     temp  temp_min  temp_max  pressure  \\\n",
              "city_name                                                                     \n",
              "Valencia   2015-01-01 00:00:00+01:00  270.475   270.475   270.475    1001.0   \n",
              "Valencia   2015-01-01 01:00:00+01:00  270.475   270.475   270.475    1001.0   \n",
              "Valencia   2015-01-01 02:00:00+01:00  269.686   269.686   269.686    1002.0   \n",
              "Valencia   2015-01-01 03:00:00+01:00  269.686   269.686   269.686    1002.0   \n",
              "Valencia   2015-01-01 04:00:00+01:00  269.686   269.686   269.686    1002.0   \n",
              "\n",
              "           humidity  wind_speed  wind_deg  rain_1h  rain_3h  snow_3h  \\\n",
              "city_name                                                              \n",
              "Valencia       77.0         1.0      62.0      0.0      0.0      0.0   \n",
              "Valencia       77.0         1.0      62.0      0.0      0.0      0.0   \n",
              "Valencia       78.0         0.0      23.0      0.0      0.0      0.0   \n",
              "Valencia       78.0         0.0      23.0      0.0      0.0      0.0   \n",
              "Valencia       78.0         0.0      23.0      0.0      0.0      0.0   \n",
              "\n",
              "           clouds_all  weather_id weather_main weather_description  \\\n",
              "city_name                                                            \n",
              "Valencia          0.0       800.0        clear        sky is clear   \n",
              "Valencia          0.0       800.0        clear        sky is clear   \n",
              "Valencia          0.0       800.0        clear        sky is clear   \n",
              "Valencia          0.0       800.0        clear        sky is clear   \n",
              "Valencia          0.0       800.0        clear        sky is clear   \n",
              "\n",
              "          weather_icon  \n",
              "city_name               \n",
              "Valencia           01n  \n",
              "Valencia           01n  \n",
              "Valencia           01n  \n",
              "Valencia           01n  \n",
              "Valencia           01n  "
            ],
            "text/html": [
              "\n",
              "  <div id=\"df-58d3876e-02e4-4850-a3d5-077dbf4a4b27\">\n",
              "    <div class=\"colab-df-container\">\n",
              "      <div>\n",
              "<style scoped>\n",
              "    .dataframe tbody tr th:only-of-type {\n",
              "        vertical-align: middle;\n",
              "    }\n",
              "\n",
              "    .dataframe tbody tr th {\n",
              "        vertical-align: top;\n",
              "    }\n",
              "\n",
              "    .dataframe thead th {\n",
              "        text-align: right;\n",
              "    }\n",
              "</style>\n",
              "<table border=\"1\" class=\"dataframe\">\n",
              "  <thead>\n",
              "    <tr style=\"text-align: right;\">\n",
              "      <th></th>\n",
              "      <th>dt_iso</th>\n",
              "      <th>temp</th>\n",
              "      <th>temp_min</th>\n",
              "      <th>temp_max</th>\n",
              "      <th>pressure</th>\n",
              "      <th>humidity</th>\n",
              "      <th>wind_speed</th>\n",
              "      <th>wind_deg</th>\n",
              "      <th>rain_1h</th>\n",
              "      <th>rain_3h</th>\n",
              "      <th>snow_3h</th>\n",
              "      <th>clouds_all</th>\n",
              "      <th>weather_id</th>\n",
              "      <th>weather_main</th>\n",
              "      <th>weather_description</th>\n",
              "      <th>weather_icon</th>\n",
              "    </tr>\n",
              "    <tr>\n",
              "      <th>city_name</th>\n",
              "      <th></th>\n",
              "      <th></th>\n",
              "      <th></th>\n",
              "      <th></th>\n",
              "      <th></th>\n",
              "      <th></th>\n",
              "      <th></th>\n",
              "      <th></th>\n",
              "      <th></th>\n",
              "      <th></th>\n",
              "      <th></th>\n",
              "      <th></th>\n",
              "      <th></th>\n",
              "      <th></th>\n",
              "      <th></th>\n",
              "      <th></th>\n",
              "    </tr>\n",
              "  </thead>\n",
              "  <tbody>\n",
              "    <tr>\n",
              "      <th>Valencia</th>\n",
              "      <td>2015-01-01 00:00:00+01:00</td>\n",
              "      <td>270.475</td>\n",
              "      <td>270.475</td>\n",
              "      <td>270.475</td>\n",
              "      <td>1001.0</td>\n",
              "      <td>77.0</td>\n",
              "      <td>1.0</td>\n",
              "      <td>62.0</td>\n",
              "      <td>0.0</td>\n",
              "      <td>0.0</td>\n",
              "      <td>0.0</td>\n",
              "      <td>0.0</td>\n",
              "      <td>800.0</td>\n",
              "      <td>clear</td>\n",
              "      <td>sky is clear</td>\n",
              "      <td>01n</td>\n",
              "    </tr>\n",
              "    <tr>\n",
              "      <th>Valencia</th>\n",
              "      <td>2015-01-01 01:00:00+01:00</td>\n",
              "      <td>270.475</td>\n",
              "      <td>270.475</td>\n",
              "      <td>270.475</td>\n",
              "      <td>1001.0</td>\n",
              "      <td>77.0</td>\n",
              "      <td>1.0</td>\n",
              "      <td>62.0</td>\n",
              "      <td>0.0</td>\n",
              "      <td>0.0</td>\n",
              "      <td>0.0</td>\n",
              "      <td>0.0</td>\n",
              "      <td>800.0</td>\n",
              "      <td>clear</td>\n",
              "      <td>sky is clear</td>\n",
              "      <td>01n</td>\n",
              "    </tr>\n",
              "    <tr>\n",
              "      <th>Valencia</th>\n",
              "      <td>2015-01-01 02:00:00+01:00</td>\n",
              "      <td>269.686</td>\n",
              "      <td>269.686</td>\n",
              "      <td>269.686</td>\n",
              "      <td>1002.0</td>\n",
              "      <td>78.0</td>\n",
              "      <td>0.0</td>\n",
              "      <td>23.0</td>\n",
              "      <td>0.0</td>\n",
              "      <td>0.0</td>\n",
              "      <td>0.0</td>\n",
              "      <td>0.0</td>\n",
              "      <td>800.0</td>\n",
              "      <td>clear</td>\n",
              "      <td>sky is clear</td>\n",
              "      <td>01n</td>\n",
              "    </tr>\n",
              "    <tr>\n",
              "      <th>Valencia</th>\n",
              "      <td>2015-01-01 03:00:00+01:00</td>\n",
              "      <td>269.686</td>\n",
              "      <td>269.686</td>\n",
              "      <td>269.686</td>\n",
              "      <td>1002.0</td>\n",
              "      <td>78.0</td>\n",
              "      <td>0.0</td>\n",
              "      <td>23.0</td>\n",
              "      <td>0.0</td>\n",
              "      <td>0.0</td>\n",
              "      <td>0.0</td>\n",
              "      <td>0.0</td>\n",
              "      <td>800.0</td>\n",
              "      <td>clear</td>\n",
              "      <td>sky is clear</td>\n",
              "      <td>01n</td>\n",
              "    </tr>\n",
              "    <tr>\n",
              "      <th>Valencia</th>\n",
              "      <td>2015-01-01 04:00:00+01:00</td>\n",
              "      <td>269.686</td>\n",
              "      <td>269.686</td>\n",
              "      <td>269.686</td>\n",
              "      <td>1002.0</td>\n",
              "      <td>78.0</td>\n",
              "      <td>0.0</td>\n",
              "      <td>23.0</td>\n",
              "      <td>0.0</td>\n",
              "      <td>0.0</td>\n",
              "      <td>0.0</td>\n",
              "      <td>0.0</td>\n",
              "      <td>800.0</td>\n",
              "      <td>clear</td>\n",
              "      <td>sky is clear</td>\n",
              "      <td>01n</td>\n",
              "    </tr>\n",
              "  </tbody>\n",
              "</table>\n",
              "</div>\n",
              "      <button class=\"colab-df-convert\" onclick=\"convertToInteractive('df-58d3876e-02e4-4850-a3d5-077dbf4a4b27')\"\n",
              "              title=\"Convert this dataframe to an interactive table.\"\n",
              "              style=\"display:none;\">\n",
              "        \n",
              "  <svg xmlns=\"http://www.w3.org/2000/svg\" height=\"24px\"viewBox=\"0 0 24 24\"\n",
              "       width=\"24px\">\n",
              "    <path d=\"M0 0h24v24H0V0z\" fill=\"none\"/>\n",
              "    <path d=\"M18.56 5.44l.94 2.06.94-2.06 2.06-.94-2.06-.94-.94-2.06-.94 2.06-2.06.94zm-11 1L8.5 8.5l.94-2.06 2.06-.94-2.06-.94L8.5 2.5l-.94 2.06-2.06.94zm10 10l.94 2.06.94-2.06 2.06-.94-2.06-.94-.94-2.06-.94 2.06-2.06.94z\"/><path d=\"M17.41 7.96l-1.37-1.37c-.4-.4-.92-.59-1.43-.59-.52 0-1.04.2-1.43.59L10.3 9.45l-7.72 7.72c-.78.78-.78 2.05 0 2.83L4 21.41c.39.39.9.59 1.41.59.51 0 1.02-.2 1.41-.59l7.78-7.78 2.81-2.81c.8-.78.8-2.07 0-2.86zM5.41 20L4 18.59l7.72-7.72 1.47 1.35L5.41 20z\"/>\n",
              "  </svg>\n",
              "      </button>\n",
              "      \n",
              "  <style>\n",
              "    .colab-df-container {\n",
              "      display:flex;\n",
              "      flex-wrap:wrap;\n",
              "      gap: 12px;\n",
              "    }\n",
              "\n",
              "    .colab-df-convert {\n",
              "      background-color: #E8F0FE;\n",
              "      border: none;\n",
              "      border-radius: 50%;\n",
              "      cursor: pointer;\n",
              "      display: none;\n",
              "      fill: #1967D2;\n",
              "      height: 32px;\n",
              "      padding: 0 0 0 0;\n",
              "      width: 32px;\n",
              "    }\n",
              "\n",
              "    .colab-df-convert:hover {\n",
              "      background-color: #E2EBFA;\n",
              "      box-shadow: 0px 1px 2px rgba(60, 64, 67, 0.3), 0px 1px 3px 1px rgba(60, 64, 67, 0.15);\n",
              "      fill: #174EA6;\n",
              "    }\n",
              "\n",
              "    [theme=dark] .colab-df-convert {\n",
              "      background-color: #3B4455;\n",
              "      fill: #D2E3FC;\n",
              "    }\n",
              "\n",
              "    [theme=dark] .colab-df-convert:hover {\n",
              "      background-color: #434B5C;\n",
              "      box-shadow: 0px 1px 3px 1px rgba(0, 0, 0, 0.15);\n",
              "      filter: drop-shadow(0px 1px 2px rgba(0, 0, 0, 0.3));\n",
              "      fill: #FFFFFF;\n",
              "    }\n",
              "  </style>\n",
              "\n",
              "      <script>\n",
              "        const buttonEl =\n",
              "          document.querySelector('#df-58d3876e-02e4-4850-a3d5-077dbf4a4b27 button.colab-df-convert');\n",
              "        buttonEl.style.display =\n",
              "          google.colab.kernel.accessAllowed ? 'block' : 'none';\n",
              "\n",
              "        async function convertToInteractive(key) {\n",
              "          const element = document.querySelector('#df-58d3876e-02e4-4850-a3d5-077dbf4a4b27');\n",
              "          const dataTable =\n",
              "            await google.colab.kernel.invokeFunction('convertToInteractive',\n",
              "                                                     [key], {});\n",
              "          if (!dataTable) return;\n",
              "\n",
              "          const docLinkHtml = 'Like what you see? Visit the ' +\n",
              "            '<a target=\"_blank\" href=https://colab.research.google.com/notebooks/data_table.ipynb>data table notebook</a>'\n",
              "            + ' to learn more about interactive tables.';\n",
              "          element.innerHTML = '';\n",
              "          dataTable['output_type'] = 'display_data';\n",
              "          await google.colab.output.renderOutput(dataTable, element);\n",
              "          const docLink = document.createElement('div');\n",
              "          docLink.innerHTML = docLinkHtml;\n",
              "          element.appendChild(docLink);\n",
              "        }\n",
              "      </script>\n",
              "    </div>\n",
              "  </div>\n",
              "  "
            ]
          },
          "metadata": {},
          "execution_count": 18
        }
      ]
    },
    {
      "cell_type": "code",
      "source": [
        "df2.tail()"
      ],
      "metadata": {
        "colab": {
          "base_uri": "https://localhost:8080/",
          "height": 371
        },
        "id": "Jd41SOlwZdHp",
        "outputId": "f8bbdfec-c312-4465-d2be-ab6c999efc1d"
      },
      "execution_count": null,
      "outputs": [
        {
          "output_type": "execute_result",
          "data": {
            "text/plain": [
              "                              dt_iso    temp  temp_min  temp_max  pressure  \\\n",
              "city_name                                                                    \n",
              "Seville    2015-10-19 07:00:00+02:00  293.50    289.15    302.15    1008.0   \n",
              "Seville    2015-10-19 08:00:00+02:00  294.17    289.15    304.15    1008.0   \n",
              "Seville    2015-10-19 09:00:00+02:00  294.69    289.15    306.15    1015.0   \n",
              "Seville    2015-10-19 10:00:00+02:00  295.02    290.15    306.15    1015.0   \n",
              "NaN                   2015-10-19 11:     NaN       NaN       NaN       NaN   \n",
              "\n",
              "           humidity  wind_speed  wind_deg  rain_1h  rain_3h  snow_3h  \\\n",
              "city_name                                                              \n",
              "Seville        93.0         1.0      90.0      0.0      0.0      0.0   \n",
              "Seville        87.0         2.0      90.0      0.0      0.0      0.0   \n",
              "Seville        52.0         3.0     340.0      0.0      0.0      0.0   \n",
              "Seville        55.0         4.0     330.0      0.3      0.0      0.0   \n",
              "NaN             NaN         NaN       NaN      NaN      NaN      NaN   \n",
              "\n",
              "           clouds_all  weather_id weather_main      weather_description  \\\n",
              "city_name                                                                 \n",
              "Seville          40.0       802.0       clouds         scattered clouds   \n",
              "Seville          40.0       300.0      drizzle  light intensity drizzle   \n",
              "Seville          88.0       300.0      drizzle  light intensity drizzle   \n",
              "Seville          92.0       500.0         rain               light rain   \n",
              "NaN               NaN         NaN          NaN                      NaN   \n",
              "\n",
              "          weather_icon  \n",
              "city_name               \n",
              "Seville            03n  \n",
              "Seville            09n  \n",
              "Seville            09d  \n",
              "Seville            10d  \n",
              "NaN                NaN  "
            ],
            "text/html": [
              "\n",
              "  <div id=\"df-da5738c3-d8d2-4d83-b941-778d8b2b9e44\">\n",
              "    <div class=\"colab-df-container\">\n",
              "      <div>\n",
              "<style scoped>\n",
              "    .dataframe tbody tr th:only-of-type {\n",
              "        vertical-align: middle;\n",
              "    }\n",
              "\n",
              "    .dataframe tbody tr th {\n",
              "        vertical-align: top;\n",
              "    }\n",
              "\n",
              "    .dataframe thead th {\n",
              "        text-align: right;\n",
              "    }\n",
              "</style>\n",
              "<table border=\"1\" class=\"dataframe\">\n",
              "  <thead>\n",
              "    <tr style=\"text-align: right;\">\n",
              "      <th></th>\n",
              "      <th>dt_iso</th>\n",
              "      <th>temp</th>\n",
              "      <th>temp_min</th>\n",
              "      <th>temp_max</th>\n",
              "      <th>pressure</th>\n",
              "      <th>humidity</th>\n",
              "      <th>wind_speed</th>\n",
              "      <th>wind_deg</th>\n",
              "      <th>rain_1h</th>\n",
              "      <th>rain_3h</th>\n",
              "      <th>snow_3h</th>\n",
              "      <th>clouds_all</th>\n",
              "      <th>weather_id</th>\n",
              "      <th>weather_main</th>\n",
              "      <th>weather_description</th>\n",
              "      <th>weather_icon</th>\n",
              "    </tr>\n",
              "    <tr>\n",
              "      <th>city_name</th>\n",
              "      <th></th>\n",
              "      <th></th>\n",
              "      <th></th>\n",
              "      <th></th>\n",
              "      <th></th>\n",
              "      <th></th>\n",
              "      <th></th>\n",
              "      <th></th>\n",
              "      <th></th>\n",
              "      <th></th>\n",
              "      <th></th>\n",
              "      <th></th>\n",
              "      <th></th>\n",
              "      <th></th>\n",
              "      <th></th>\n",
              "      <th></th>\n",
              "    </tr>\n",
              "  </thead>\n",
              "  <tbody>\n",
              "    <tr>\n",
              "      <th>Seville</th>\n",
              "      <td>2015-10-19 07:00:00+02:00</td>\n",
              "      <td>293.50</td>\n",
              "      <td>289.15</td>\n",
              "      <td>302.15</td>\n",
              "      <td>1008.0</td>\n",
              "      <td>93.0</td>\n",
              "      <td>1.0</td>\n",
              "      <td>90.0</td>\n",
              "      <td>0.0</td>\n",
              "      <td>0.0</td>\n",
              "      <td>0.0</td>\n",
              "      <td>40.0</td>\n",
              "      <td>802.0</td>\n",
              "      <td>clouds</td>\n",
              "      <td>scattered clouds</td>\n",
              "      <td>03n</td>\n",
              "    </tr>\n",
              "    <tr>\n",
              "      <th>Seville</th>\n",
              "      <td>2015-10-19 08:00:00+02:00</td>\n",
              "      <td>294.17</td>\n",
              "      <td>289.15</td>\n",
              "      <td>304.15</td>\n",
              "      <td>1008.0</td>\n",
              "      <td>87.0</td>\n",
              "      <td>2.0</td>\n",
              "      <td>90.0</td>\n",
              "      <td>0.0</td>\n",
              "      <td>0.0</td>\n",
              "      <td>0.0</td>\n",
              "      <td>40.0</td>\n",
              "      <td>300.0</td>\n",
              "      <td>drizzle</td>\n",
              "      <td>light intensity drizzle</td>\n",
              "      <td>09n</td>\n",
              "    </tr>\n",
              "    <tr>\n",
              "      <th>Seville</th>\n",
              "      <td>2015-10-19 09:00:00+02:00</td>\n",
              "      <td>294.69</td>\n",
              "      <td>289.15</td>\n",
              "      <td>306.15</td>\n",
              "      <td>1015.0</td>\n",
              "      <td>52.0</td>\n",
              "      <td>3.0</td>\n",
              "      <td>340.0</td>\n",
              "      <td>0.0</td>\n",
              "      <td>0.0</td>\n",
              "      <td>0.0</td>\n",
              "      <td>88.0</td>\n",
              "      <td>300.0</td>\n",
              "      <td>drizzle</td>\n",
              "      <td>light intensity drizzle</td>\n",
              "      <td>09d</td>\n",
              "    </tr>\n",
              "    <tr>\n",
              "      <th>Seville</th>\n",
              "      <td>2015-10-19 10:00:00+02:00</td>\n",
              "      <td>295.02</td>\n",
              "      <td>290.15</td>\n",
              "      <td>306.15</td>\n",
              "      <td>1015.0</td>\n",
              "      <td>55.0</td>\n",
              "      <td>4.0</td>\n",
              "      <td>330.0</td>\n",
              "      <td>0.3</td>\n",
              "      <td>0.0</td>\n",
              "      <td>0.0</td>\n",
              "      <td>92.0</td>\n",
              "      <td>500.0</td>\n",
              "      <td>rain</td>\n",
              "      <td>light rain</td>\n",
              "      <td>10d</td>\n",
              "    </tr>\n",
              "    <tr>\n",
              "      <th>NaN</th>\n",
              "      <td>2015-10-19 11:</td>\n",
              "      <td>NaN</td>\n",
              "      <td>NaN</td>\n",
              "      <td>NaN</td>\n",
              "      <td>NaN</td>\n",
              "      <td>NaN</td>\n",
              "      <td>NaN</td>\n",
              "      <td>NaN</td>\n",
              "      <td>NaN</td>\n",
              "      <td>NaN</td>\n",
              "      <td>NaN</td>\n",
              "      <td>NaN</td>\n",
              "      <td>NaN</td>\n",
              "      <td>NaN</td>\n",
              "      <td>NaN</td>\n",
              "      <td>NaN</td>\n",
              "    </tr>\n",
              "  </tbody>\n",
              "</table>\n",
              "</div>\n",
              "      <button class=\"colab-df-convert\" onclick=\"convertToInteractive('df-da5738c3-d8d2-4d83-b941-778d8b2b9e44')\"\n",
              "              title=\"Convert this dataframe to an interactive table.\"\n",
              "              style=\"display:none;\">\n",
              "        \n",
              "  <svg xmlns=\"http://www.w3.org/2000/svg\" height=\"24px\"viewBox=\"0 0 24 24\"\n",
              "       width=\"24px\">\n",
              "    <path d=\"M0 0h24v24H0V0z\" fill=\"none\"/>\n",
              "    <path d=\"M18.56 5.44l.94 2.06.94-2.06 2.06-.94-2.06-.94-.94-2.06-.94 2.06-2.06.94zm-11 1L8.5 8.5l.94-2.06 2.06-.94-2.06-.94L8.5 2.5l-.94 2.06-2.06.94zm10 10l.94 2.06.94-2.06 2.06-.94-2.06-.94-.94-2.06-.94 2.06-2.06.94z\"/><path d=\"M17.41 7.96l-1.37-1.37c-.4-.4-.92-.59-1.43-.59-.52 0-1.04.2-1.43.59L10.3 9.45l-7.72 7.72c-.78.78-.78 2.05 0 2.83L4 21.41c.39.39.9.59 1.41.59.51 0 1.02-.2 1.41-.59l7.78-7.78 2.81-2.81c.8-.78.8-2.07 0-2.86zM5.41 20L4 18.59l7.72-7.72 1.47 1.35L5.41 20z\"/>\n",
              "  </svg>\n",
              "      </button>\n",
              "      \n",
              "  <style>\n",
              "    .colab-df-container {\n",
              "      display:flex;\n",
              "      flex-wrap:wrap;\n",
              "      gap: 12px;\n",
              "    }\n",
              "\n",
              "    .colab-df-convert {\n",
              "      background-color: #E8F0FE;\n",
              "      border: none;\n",
              "      border-radius: 50%;\n",
              "      cursor: pointer;\n",
              "      display: none;\n",
              "      fill: #1967D2;\n",
              "      height: 32px;\n",
              "      padding: 0 0 0 0;\n",
              "      width: 32px;\n",
              "    }\n",
              "\n",
              "    .colab-df-convert:hover {\n",
              "      background-color: #E2EBFA;\n",
              "      box-shadow: 0px 1px 2px rgba(60, 64, 67, 0.3), 0px 1px 3px 1px rgba(60, 64, 67, 0.15);\n",
              "      fill: #174EA6;\n",
              "    }\n",
              "\n",
              "    [theme=dark] .colab-df-convert {\n",
              "      background-color: #3B4455;\n",
              "      fill: #D2E3FC;\n",
              "    }\n",
              "\n",
              "    [theme=dark] .colab-df-convert:hover {\n",
              "      background-color: #434B5C;\n",
              "      box-shadow: 0px 1px 3px 1px rgba(0, 0, 0, 0.15);\n",
              "      filter: drop-shadow(0px 1px 2px rgba(0, 0, 0, 0.3));\n",
              "      fill: #FFFFFF;\n",
              "    }\n",
              "  </style>\n",
              "\n",
              "      <script>\n",
              "        const buttonEl =\n",
              "          document.querySelector('#df-da5738c3-d8d2-4d83-b941-778d8b2b9e44 button.colab-df-convert');\n",
              "        buttonEl.style.display =\n",
              "          google.colab.kernel.accessAllowed ? 'block' : 'none';\n",
              "\n",
              "        async function convertToInteractive(key) {\n",
              "          const element = document.querySelector('#df-da5738c3-d8d2-4d83-b941-778d8b2b9e44');\n",
              "          const dataTable =\n",
              "            await google.colab.kernel.invokeFunction('convertToInteractive',\n",
              "                                                     [key], {});\n",
              "          if (!dataTable) return;\n",
              "\n",
              "          const docLinkHtml = 'Like what you see? Visit the ' +\n",
              "            '<a target=\"_blank\" href=https://colab.research.google.com/notebooks/data_table.ipynb>data table notebook</a>'\n",
              "            + ' to learn more about interactive tables.';\n",
              "          element.innerHTML = '';\n",
              "          dataTable['output_type'] = 'display_data';\n",
              "          await google.colab.output.renderOutput(dataTable, element);\n",
              "          const docLink = document.createElement('div');\n",
              "          docLink.innerHTML = docLinkHtml;\n",
              "          element.appendChild(docLink);\n",
              "        }\n",
              "      </script>\n",
              "    </div>\n",
              "  </div>\n",
              "  "
            ]
          },
          "metadata": {},
          "execution_count": 19
        }
      ]
    },
    {
      "cell_type": "code",
      "source": [
        "df2.duplicated().sum()\n",
        "df2=df2.drop('dt_iso', axis=1)"
      ],
      "metadata": {
        "id": "3VdMxXCzZ1Cm"
      },
      "execution_count": null,
      "outputs": []
    },
    {
      "cell_type": "code",
      "source": [
        "df2 = df2.drop_duplicates()"
      ],
      "metadata": {
        "id": "ZdwyL2daZ2q2"
      },
      "execution_count": null,
      "outputs": []
    },
    {
      "cell_type": "code",
      "source": [
        "df2.isnull().sum()"
      ],
      "metadata": {
        "colab": {
          "base_uri": "https://localhost:8080/"
        },
        "id": "iG9g9bhMZ5MO",
        "outputId": "279ae055-47b3-4d27-e605-99eb2e6cb161"
      },
      "execution_count": null,
      "outputs": [
        {
          "output_type": "execute_result",
          "data": {
            "text/plain": [
              "temp                   1\n",
              "temp_min               1\n",
              "temp_max               1\n",
              "pressure               1\n",
              "humidity               1\n",
              "wind_speed             1\n",
              "wind_deg               1\n",
              "rain_1h                1\n",
              "rain_3h                1\n",
              "snow_3h                1\n",
              "clouds_all             1\n",
              "weather_id             1\n",
              "weather_main           1\n",
              "weather_description    1\n",
              "weather_icon           1\n",
              "dtype: int64"
            ]
          },
          "metadata": {},
          "execution_count": 22
        }
      ]
    },
    {
      "cell_type": "code",
      "source": [
        "df3 = df2[df2['weather_main'] == 'clear']\n",
        "df4 = df2[df2['weather_main'] == 'clouds']\n",
        "df5 = df2[df2['weather_main'] == 'rain']\n",
        "df6 = df2[df2['weather_main'] == 'mist']\n",
        "df7 = df2[df2['weather_main'] == 'drizzle']\n",
        "df8 = df2[df2['weather_main'] == 'fog']\n",
        "df9 = df2[df2['weather_main'] == 'thunderstorm']\n",
        "df10 = df2[df2['weather_main'] == 'snow']\n",
        "df11 = df2[df2['weather_main'] == 'haze']\n",
        "df12 = df2[df2['weather_main'] == 'smoke']\n",
        "plt.figure(figsize = (14,6))\n",
        "sns.lineplot(data=df3['wind_speed'])\n",
        "sns.lineplot(data=df4['wind_speed'])\n",
        "sns.lineplot(data=df5['wind_speed'])\n",
        "sns.lineplot(data=df6['wind_speed'])\n",
        "sns.lineplot(data=df7['wind_speed'])\n",
        "sns.lineplot(data=df8['wind_speed'])\n",
        "sns.lineplot(data=df9['wind_speed'])\n",
        "sns.lineplot(data=df10['wind_speed'])\n",
        "sns.lineplot(data=df11['wind_speed'])\n",
        "sns.lineplot(data=df12['wind_speed'])\n",
        "plt.show()"
      ],
      "metadata": {
        "colab": {
          "base_uri": "https://localhost:8080/",
          "height": 389
        },
        "id": "Xy2KFl6VZ8hO",
        "outputId": "2d7ddfc4-6cda-4d63-fd3c-403a4a90e151"
      },
      "execution_count": null,
      "outputs": [
        {
          "output_type": "display_data",
          "data": {
            "text/plain": [
              "<Figure size 1008x432 with 1 Axes>"
            ],
            "image/png": "[encoded data removed]"
          },
          "metadata": {
            "needs_background": "light"
          }
        }
      ]
    },
    {
      "cell_type": "code",
      "source": [
        "df2 = df2.dropna()\n",
        "from sklearn import preprocessing\n",
        "label_encoder = preprocessing.LabelEncoder()\n",
        "df2['weather_main']= label_encoder.fit_transform(df2['weather_main']) \n",
        "df2['weather_description']= label_encoder.fit_transform(df2['weather_description'])\n",
        "df2['weather_icon']= label_encoder.fit_transform(df2['weather_icon'])\n",
        "y = df2['weather_icon']\n",
        "X = df2.drop('weather_icon', axis=1)"
      ],
      "metadata": {
        "id": "ZqqPUn-jaUAg"
      },
      "execution_count": null,
      "outputs": []
    },
    {
      "cell_type": "code",
      "source": [
        "from imblearn.over_sampling import SMOTE\n",
        "oversample = SMOTE()\n",
        "X, y = oversample.fit_resample(X, y)"
      ],
      "metadata": {
        "id": "MLfowQpdaWzA"
      },
      "execution_count": null,
      "outputs": []
    },
    {
      "cell_type": "code",
      "source": [
        "oversample = SMOTE()\n",
        "X, y = oversample.fit_resample(X, y)"
      ],
      "metadata": {
        "id": "1agyOSx0arYy"
      },
      "execution_count": null,
      "outputs": []
    },
    {
      "cell_type": "code",
      "source": [
        "from sklearn.preprocessing import StandardScaler\n",
        "from sklearn.model_selection import train_test_split\n",
        "from sklearn.neighbors import KNeighborsClassifier\n",
        "from sklearn.linear_model import LogisticRegression\n",
        "from sklearn.ensemble import RandomForestClassifier\n",
        "from sklearn.metrics import classification_report, confusion_matrix, accuracy_score"
      ],
      "metadata": {
        "id": "UtscVR-WauBo"
      },
      "execution_count": null,
      "outputs": []
    },
    {
      "cell_type": "code",
      "source": [
        "scaler = StandardScaler()\n",
        "X = scaler.fit_transform(X)"
      ],
      "metadata": {
        "id": "Ji0H52fNavvw"
      },
      "execution_count": null,
      "outputs": []
    },
    {
      "cell_type": "code",
      "source": [
        "X_train, X_test, y_train, y_test = train_test_split(X, y,\n",
        "test_size = 0.3,\n",
        "random_state = 0)"
      ],
      "metadata": {
        "id": "Xad1IjR3a0U4"
      },
      "execution_count": null,
      "outputs": []
    },
    {
      "cell_type": "code",
      "source": [
        "knn= KNeighborsClassifier(n_neighbors=5, metric='minkowski', p=2 )\n",
        "knn.fit(X_train, y_train)"
      ],
      "metadata": {
        "colab": {
          "base_uri": "https://localhost:8080/"
        },
        "id": "vKRtWdIHa14C",
        "outputId": "1199db0e-a248-4f6f-ec9a-2e6859e49908"
      },
      "execution_count": null,
      "outputs": [
        {
          "output_type": "execute_result",
          "data": {
            "text/plain": [
              "KNeighborsClassifier()"
            ]
          },
          "metadata": {},
          "execution_count": 34
        }
      ]
    },
    {
      "cell_type": "code",
      "source": [
        "y_pred_knn= knn.predict(X_test)"
      ],
      "metadata": {
        "id": "nSGJZ64Ca365"
      },
      "execution_count": null,
      "outputs": []
    },
    {
      "cell_type": "code",
      "source": [
        "cm_knn = confusion_matrix(y_test, y_pred_knn)"
      ],
      "metadata": {
        "id": "b1zY8zktbDci"
      },
      "execution_count": null,
      "outputs": []
    },
    {
      "cell_type": "code",
      "source": [
        "cm_knn"
      ],
      "metadata": {
        "colab": {
          "base_uri": "https://localhost:8080/"
        },
        "id": "B-XGROuCbE7g",
        "outputId": "e2213e1a-92d3-4263-ed8b-77a54a2e6300"
      },
      "execution_count": null,
      "outputs": [
        {
          "output_type": "execute_result",
          "data": {
            "text/plain": [
              "array([[7364,  325,  401,  148,    1,    2,    0,    0,    0,    0,    0,\n",
              "           0,    0,    0,    0,    0,    0,    0,    0,    0,    0,    0,\n",
              "           0,    0],\n",
              "       [1168, 5144, 1908,   38,    8,    9,    0,    0,    1,    0,    1,\n",
              "           0,    0,    0,    0,    0,    0,    0,    0,    0,    0,    0,\n",
              "           0,    0],\n",
              "       [1470, 1852, 4905,   38,    0,   15,    0,    0,    0,    0,    0,\n",
              "           0,    0,    0,    0,    0,    0,    0,    0,    0,    0,    0,\n",
              "           0,    0],\n",
              "       [ 395,   63,   54, 7200,  282,  371,    4,    0,    0,    0,    0,\n",
              "           0,    0,    0,    0,    0,    0,    0,    0,    0,    0,    0,\n",
              "           0,    0],\n",
              "       [  18,   52,   38,  680, 6037, 1441,    0,    1,    0,    1,    0,\n",
              "           0,    1,    0,    0,    0,    0,    0,    0,    0,    0,    0,\n",
              "           1,    0],\n",
              "       [  36,   50,  124,  787, 1130, 6095,    0,    0,    1,    1,    0,\n",
              "           0,    0,    0,    0,    0,    0,    0,    0,    0,    0,    0,\n",
              "           0,    0],\n",
              "       [   0,    0,    0,    0,    0,    0, 7850,  188,  216,    0,    0,\n",
              "           0,    0,    0,    0,    0,    0,    0,    0,    0,    0,    0,\n",
              "           0,    0],\n",
              "       [   0,    0,    1,    0,    0,    0,  425, 6751, 1079,    0,    0,\n",
              "           0,    0,    0,    0,    0,    0,    0,    0,    0,    0,    0,\n",
              "           0,    0],\n",
              "       [   0,    0,    0,    0,    0,    0,  513,  896, 6788,    0,    0,\n",
              "           0,    0,    0,    0,    0,    0,    0,    0,    0,    0,    0,\n",
              "           0,    0],\n",
              "       [   0,    0,    0,    0,    0,    0,    0,    0,    0, 7748,  214,\n",
              "         300,    0,    0,    0,    0,    0,    0,    0,    0,    0,    0,\n",
              "           0,    0],\n",
              "       [   0,    0,    0,    0,    0,    0,    0,    0,    1,  536, 6283,\n",
              "        1412,    0,    0,    0,    0,    0,    0,    0,    0,    0,    0,\n",
              "           0,    0],\n",
              "       [   0,    0,    0,    0,    2,    0,    0,    0,    4,  672, 1411,\n",
              "        6148,    0,    0,    0,    0,    0,    0,    0,    0,    0,    0,\n",
              "           0,    0],\n",
              "       [   0,    0,    0,    0,    0,    0,    0,    0,    0,    0,    0,\n",
              "           0, 7664,  391,   18,  114,   70,    0,    0,    0,    0,    0,\n",
              "           0,    0],\n",
              "       [   0,    0,    0,    0,    0,    0,    0,    0,    0,    0,    0,\n",
              "           0,  324, 7779,   35,   85,   62,    0,    0,    0,    0,    0,\n",
              "           0,    0],\n",
              "       [   0,    0,    0,    0,    0,    0,    0,    0,    0,    0,    0,\n",
              "           0,   49,   60, 7805,  232,  192,    0,    0,    4,    0,    0,\n",
              "           0,    0],\n",
              "       [   0,    0,    0,    0,    0,    0,    0,    0,    0,    0,    1,\n",
              "           0,  198,  141,  335, 6617, 1025,    0,    1,    0,    0,    0,\n",
              "           0,    0],\n",
              "       [   0,    0,    0,    0,    0,    0,    0,    0,    0,    0,    2,\n",
              "           0,  128,  135,  460, 1303, 6293,    0,    3,    0,    0,    0,\n",
              "           0,    0],\n",
              "       [   0,    0,    0,    0,    0,    0,    0,    0,    0,    0,    0,\n",
              "           0,    0,    0,    0,    0,    0, 8184,  126,    0,    0,    0,\n",
              "           0,    0],\n",
              "       [   0,    0,    0,    0,    0,    0,    0,    0,    0,    0,    0,\n",
              "           0,    0,    0,    0,    0,    0,   77, 8269,    0,    0,    0,\n",
              "           0,    0],\n",
              "       [   0,    0,    0,    0,    0,    0,    0,    0,    0,    0,    0,\n",
              "           0,    0,    0,    0,    0,    0,    0,    0, 8271,    0,    0,\n",
              "           0,    0],\n",
              "       [   0,    0,    0,    0,    0,    0,    0,    0,    0,    0,    0,\n",
              "           0,    0,    0,    0,    0,    0,    0,    0,    0, 8376,    1,\n",
              "           0,    0],\n",
              "       [   0,    0,    0,    0,    0,    0,    0,    0,    0,    0,    0,\n",
              "           0,    0,    0,    0,    0,    0,    0,    0,    0,    6, 8265,\n",
              "           0,    0],\n",
              "       [   0,    0,    0,    0,    2,    0,    0,    0,    0,    0,    1,\n",
              "           1,    0,    0,    0,    6,    0,    0,    0,    0,    0,    0,\n",
              "        7570,  624],\n",
              "       [   0,    0,    0,    0,    2,    0,    0,    0,    0,    0,    1,\n",
              "           2,    0,    1,    0,    0,    0,    0,    0,    0,    0,    0,\n",
              "         680, 7443]])"
            ]
          },
          "metadata": {},
          "execution_count": 37
        }
      ]
    },
    {
      "cell_type": "code",
      "source": [
        "plt.figure(figsize = (14,6))\n",
        "sns.heatmap(cm_knn, annot = True)\n",
        "plt.show()"
      ],
      "metadata": {
        "colab": {
          "base_uri": "https://localhost:8080/",
          "height": 374
        },
        "id": "5M68_9EIbGbg",
        "outputId": "4d3f7719-48a0-4b88-e2f6-ceef5ee1ac93"
      },
      "execution_count": null,
      "outputs": [
        {
          "output_type": "display_data",
          "data": {
            "text/plain": [
              "<Figure size 1008x432 with 2 Axes>"
            ],
            "image/png": "[encoded data removed]"
          },
          "metadata": {
            "needs_background": "light"
          }
        }
      ]
    },
    {
      "cell_type": "code",
      "source": [
        "print(classification_report(y_test, y_pred_knn))"
      ],
      "metadata": {
        "colab": {
          "base_uri": "https://localhost:8080/"
        },
        "id": "B9kY17EQbIu0",
        "outputId": "559edacf-555e-46e7-e581-3402f9772e69"
      },
      "execution_count": null,
      "outputs": [
        {
          "output_type": "stream",
          "name": "stdout",
          "text": [
            "              precision    recall  f1-score   support\n",
            "\n",
            "           0       0.70      0.89      0.79      8241\n",
            "           1       0.69      0.62      0.65      8277\n",
            "           2       0.66      0.59      0.62      8280\n",
            "           3       0.81      0.86      0.83      8369\n",
            "           4       0.81      0.73      0.77      8270\n",
            "           5       0.77      0.74      0.75      8224\n",
            "           6       0.89      0.95      0.92      8254\n",
            "           7       0.86      0.82      0.84      8256\n",
            "           8       0.84      0.83      0.83      8197\n",
            "           9       0.86      0.94      0.90      8262\n",
            "          10       0.79      0.76      0.78      8232\n",
            "          11       0.78      0.75      0.76      8237\n",
            "          12       0.92      0.93      0.92      8257\n",
            "          13       0.91      0.94      0.93      8285\n",
            "          14       0.90      0.94      0.92      8342\n",
            "          15       0.79      0.80      0.79      8318\n",
            "          16       0.82      0.76      0.79      8324\n",
            "          17       0.99      0.98      0.99      8310\n",
            "          18       0.98      0.99      0.99      8346\n",
            "          19       1.00      1.00      1.00      8271\n",
            "          20       1.00      1.00      1.00      8377\n",
            "          21       1.00      1.00      1.00      8271\n",
            "          22       0.92      0.92      0.92      8204\n",
            "          23       0.92      0.92      0.92      8129\n",
            "\n",
            "    accuracy                           0.86    198533\n",
            "   macro avg       0.86      0.86      0.86    198533\n",
            "weighted avg       0.86      0.86      0.86    198533\n",
            "\n"
          ]
        }
      ]
    },
    {
      "cell_type": "code",
      "source": [
        "print(accuracy_score(y_test, y_pred_knn))"
      ],
      "metadata": {
        "colab": {
          "base_uri": "https://localhost:8080/"
        },
        "id": "THTboNWZbKLv",
        "outputId": "1568e22d-207e-4085-e990-a736ed9464c6"
      },
      "execution_count": null,
      "outputs": [
        {
          "output_type": "stream",
          "name": "stdout",
          "text": [
            "0.9736548869786692\n"
          ]
        }
      ]
    },
    {
      "cell_type": "code",
      "source": [
        "lr = LogisticRegression(random_state=0)\n",
        "lr.fit(X_train, y_train)"
      ],
      "metadata": {
        "colab": {
          "base_uri": "https://localhost:8080/"
        },
        "id": "s70jMHG5bL8_",
        "outputId": "f650a038-2035-4028-9d54-2e382d2c9a58"
      },
      "execution_count": null,
      "outputs": [
        {
          "output_type": "stream",
          "name": "stderr",
          "text": [
            "/usr/local/lib/python3.8/dist-packages/sklearn/linear_model/_logistic.py:814: ConvergenceWarning: lbfgs failed to converge (status=1):\n",
            "STOP: TOTAL NO. of ITERATIONS REACHED LIMIT.\n",
            "\n",
            "Increase the number of iterations (max_iter) or scale the data as shown in:\n",
            "    https://scikit-learn.org/stable/modules/preprocessing.html\n",
            "Please also refer to the documentation for alternative solver options:\n",
            "    https://scikit-learn.org/stable/modules/linear_model.html#logistic-regression\n",
            "  n_iter_i = _check_optimize_result(\n"
          ]
        },
        {
          "output_type": "execute_result",
          "data": {
            "text/plain": [
              "LogisticRegression(random_state=0)"
            ]
          },
          "metadata": {},
          "execution_count": 40
        }
      ]
    },
    {
      "cell_type": "code",
      "source": [
        "y_pred_lr= lr.predict(X_test)"
      ],
      "metadata": {
        "id": "t6MEIXfMbOB5"
      },
      "execution_count": null,
      "outputs": []
    },
    {
      "cell_type": "code",
      "source": [
        "cm_lr = confusion_matrix(y_test, y_pred_lr)"
      ],
      "metadata": {
        "id": "XPH9cVzcbPx5"
      },
      "execution_count": null,
      "outputs": []
    },
    {
      "cell_type": "code",
      "source": [
        "cm_lr"
      ],
      "metadata": {
        "colab": {
          "base_uri": "https://localhost:8080/"
        },
        "id": "lyWuet5RbRGB",
        "outputId": "a7707d0b-a9ec-4e2c-9928-67dcc0e0e88c"
      },
      "execution_count": null,
      "outputs": [
        {
          "output_type": "execute_result",
          "data": {
            "text/plain": [
              "array([[7943,  227,   71,    0,    0,    0,    0,    0,    0,    0,    0,\n",
              "           0,    0,    0,    0,    0,    0,    0,    0,    0,    0,    0,\n",
              "           0,    0],\n",
              "       [1507, 5011, 1754,    0,    0,    5,    0,    0,    0,    0,    0,\n",
              "           0,    0,    0,    0,    0,    0,    0,    0,    0,    0,    0,\n",
              "           0,    0],\n",
              "       [2269, 2106, 3905,    0,    0,    0,    0,    0,    0,    0,    0,\n",
              "           0,    0,    0,    0,    0,    0,    0,    0,    0,    0,    0,\n",
              "           0,    0],\n",
              "       [ 145,   20,    2, 7117,  604,  481,    0,    0,    0,    0,    0,\n",
              "           0,    0,    0,    0,    0,    0,    0,    0,    0,    0,    0,\n",
              "           0,    0],\n",
              "       [   0,    0,    0,  892, 5649, 1727,    0,    0,    0,    0,    0,\n",
              "           0,    0,    0,    0,    0,    0,    0,    0,    1,    0,    0,\n",
              "           1,    0],\n",
              "       [   0,    0,    0, 1386, 1635, 5203,    0,    0,    0,    0,    0,\n",
              "           0,    0,    0,    0,    0,    0,    0,    0,    0,    0,    0,\n",
              "           0,    0],\n",
              "       [   0,    0,    0,    0,    0,    0, 7781,  253,  220,    0,    0,\n",
              "           0,    0,    0,    0,    0,    0,    0,    0,    0,    0,    0,\n",
              "           0,    0],\n",
              "       [   0,    0,    0,    0,    0,    0,  805, 5491, 1960,    0,    0,\n",
              "           0,    0,    0,    0,    0,    0,    0,    0,    0,    0,    0,\n",
              "           0,    0],\n",
              "       [   0,    0,    0,    0,    0,    0, 1370, 1833, 4994,    0,    0,\n",
              "           0,    0,    0,    0,    0,    0,    0,    0,    0,    0,    0,\n",
              "           0,    0],\n",
              "       [   0,    0,    0,    0,    0,    0,    0,    0,    0, 8028,  185,\n",
              "          49,    0,    0,    0,    0,    0,    0,    0,    0,    0,    0,\n",
              "           0,    0],\n",
              "       [   0,    0,    0,    0,    1,    0,    0,    0,    0, 1060, 4829,\n",
              "        2342,    0,    0,    0,    0,    0,    0,    0,    0,    0,    0,\n",
              "           0,    0],\n",
              "       [   0,    0,    0,    0,    0,    0,    0,    0,    0, 1662, 2059,\n",
              "        4516,    0,    0,    0,    0,    0,    0,    0,    0,    0,    0,\n",
              "           0,    0],\n",
              "       [   0,    0,    6,    0,    0,    0,    0,    0,    0,    0,    0,\n",
              "           0, 4294, 2878,  216,  539,  323,    0,    0,    0,    1,    0,\n",
              "           0,    0],\n",
              "       [   2,    0,    6,    0,    0,    0,    0,    0,    0,    0,    0,\n",
              "           0, 1744, 4983,  331,  403,  813,    0,    0,    0,    2,    1,\n",
              "           0,    0],\n",
              "       [   0,    0,    0,    0,    0,    0,    0,    0,    0,    0,    0,\n",
              "           0,    0,    0, 8280,   58,    4,    0,    0,    0,    0,    0,\n",
              "           0,    0],\n",
              "       [   0,    0,    0,    0,    0,    0,    0,    0,    0,    0,    0,\n",
              "           0,   68,    0, 1038, 3997, 3210,    0,    5,    0,    0,    0,\n",
              "           0,    0],\n",
              "       [   0,    0,    0,    0,    0,    0,    0,    0,    0,    0,    0,\n",
              "           0,    7,    2, 1267, 2372, 4672,    0,    1,    0,    1,    2,\n",
              "           0,    0],\n",
              "       [   0,    0,    0,    0,    0,    0,    0,    0,    0,    0,    0,\n",
              "           0,    0,    0,    0,    1,    0, 5724, 2585,    0,    0,    0,\n",
              "           0,    0],\n",
              "       [   0,    0,    0,    0,    0,    0,    0,    0,    0,    0,    0,\n",
              "           0,    0,    0,    0,    9,    0, 2809, 5528,    0,    0,    0,\n",
              "           0,    0],\n",
              "       [   0,    0,    0,    0,    0,    0,    0,    0,    0,    0,    0,\n",
              "           0,    0,    0,    0,    0,    0,    0,    0, 8271,    0,    0,\n",
              "           0,    0],\n",
              "       [   0,    0,    0,    0,    0,    0,    0,    0,    0,    0,    0,\n",
              "           0,    0,    0,    0,    0,    0,    0,    0,    0, 5717, 2649,\n",
              "           0,   11],\n",
              "       [   0,    0,    0,    0,    0,    0,    0,    0,    0,    0,    0,\n",
              "           0,    0,    0,    0,    0,    0,    0,    0,    0, 1490, 6781,\n",
              "           0,    0],\n",
              "       [   1,    1,    0,    0,    0,    0,    0,    2,    0,    0,    4,\n",
              "           2,    0,    0,    0,    0,    0,    0,    0,    0,    0,    2,\n",
              "        4971, 3221],\n",
              "       [   7,    6,    1,    0,    0,    0,    0,    0,    0,    3,    1,\n",
              "           0,    0,    0,    0,    0,    0,    0,    0,    2,    0,    1,\n",
              "        2491, 5617]])"
            ]
          },
          "metadata": {},
          "execution_count": 44
        }
      ]
    },
    {
      "cell_type": "code",
      "source": [
        "plt.figure(figsize = (14,6))\n",
        "sns.heatmap(cm_lr, annot = True)\n",
        "plt.show()"
      ],
      "metadata": {
        "colab": {
          "base_uri": "https://localhost:8080/",
          "height": 374
        },
        "id": "-lbGYevpbS7_",
        "outputId": "ac7fb507-247a-482d-e684-19bed6601440"
      },
      "execution_count": null,
      "outputs": [
        {
          "output_type": "display_data",
          "data": {
            "text/plain": [
              "<Figure size 1008x432 with 2 Axes>"
            ],
            "image/png": "[encoded data removed]"
          },
          "metadata": {
            "needs_background": "light"
          }
        }
      ]
    },
    {
      "cell_type": "code",
      "source": [
        "print(classification_report(y_test, y_pred_lr))"
      ],
      "metadata": {
        "colab": {
          "base_uri": "https://localhost:8080/"
        },
        "id": "hfzCX_INbVAY",
        "outputId": "c97cffed-3996-4cac-c614-3ed3f7fc0dad"
      },
      "execution_count": null,
      "outputs": [
        {
          "output_type": "stream",
          "name": "stdout",
          "text": [
            "              precision    recall  f1-score   support\n",
            "\n",
            "           0       0.67      0.96      0.79      8241\n",
            "           1       0.68      0.61      0.64      8277\n",
            "           2       0.68      0.47      0.56      8280\n",
            "           3       0.76      0.85      0.80      8369\n",
            "           4       0.72      0.68      0.70      8270\n",
            "           5       0.70      0.63      0.67      8224\n",
            "           6       0.78      0.94      0.85      8254\n",
            "           7       0.72      0.67      0.69      8256\n",
            "           8       0.70      0.61      0.65      8197\n",
            "           9       0.75      0.97      0.84      8262\n",
            "          10       0.68      0.59      0.63      8232\n",
            "          11       0.65      0.55      0.60      8237\n",
            "          12       0.70      0.52      0.60      8257\n",
            "          13       0.63      0.60      0.62      8285\n",
            "          14       0.74      0.99      0.85      8342\n",
            "          15       0.54      0.48      0.51      8318\n",
            "          16       0.52      0.56      0.54      8324\n",
            "          17       0.67      0.69      0.68      8310\n",
            "          18       0.68      0.66      0.67      8346\n",
            "          19       1.00      1.00      1.00      8271\n",
            "          20       0.79      0.68      0.73      8377\n",
            "          21       0.72      0.82      0.77      8271\n",
            "          22       0.67      0.61      0.63      8204\n",
            "          23       0.63      0.69      0.66      8129\n",
            "\n",
            "    accuracy                           0.70    198533\n",
            "   macro avg       0.70      0.70      0.70    198533\n",
            "weighted avg       0.70      0.70      0.70    198533\n",
            "\n"
          ]
        }
      ]
    },
    {
      "cell_type": "code",
      "source": [
        "print(accuracy_score(y_test, y_pred_lr))"
      ],
      "metadata": {
        "colab": {
          "base_uri": "https://localhost:8080/"
        },
        "id": "iKXRed64bWTP",
        "outputId": "b0b450bd-0a29-404a-a41f-1e59f79ed5e2"
      },
      "execution_count": null,
      "outputs": [
        {
          "output_type": "stream",
          "name": "stdout",
          "text": [
            "0.660140082776186\n"
          ]
        }
      ]
    },
    {
      "cell_type": "code",
      "source": [
        "rf = RandomForestClassifier(n_estimators= 10, criterion=\"entropy\")\n",
        "rf.fit(X_train, y_train)"
      ],
      "metadata": {
        "colab": {
          "base_uri": "https://localhost:8080/"
        },
        "id": "XEjiT_FMbX2n",
        "outputId": "d90d00d6-122b-48cb-d52c-b497826a9b84"
      },
      "execution_count": null,
      "outputs": [
        {
          "output_type": "execute_result",
          "data": {
            "text/plain": [
              "RandomForestClassifier(criterion='entropy', n_estimators=10)"
            ]
          },
          "metadata": {},
          "execution_count": 47
        }
      ]
    },
    {
      "cell_type": "code",
      "source": [
        "y_pred_rf= rf.predict(X_test)"
      ],
      "metadata": {
        "id": "NNFS3gwDbaR3"
      },
      "execution_count": null,
      "outputs": []
    },
    {
      "cell_type": "code",
      "source": [
        "cm_rf = confusion_matrix(y_test, y_pred_rf)"
      ],
      "metadata": {
        "id": "3jsRzzAIbbvg"
      },
      "execution_count": null,
      "outputs": []
    },
    {
      "cell_type": "code",
      "source": [
        "cm_rf"
      ],
      "metadata": {
        "colab": {
          "base_uri": "https://localhost:8080/"
        },
        "id": "lQUJm4LfbdkH",
        "outputId": "565181a1-055f-4a7f-d350-ab3ea17e3df6"
      },
      "execution_count": null,
      "outputs": [
        {
          "output_type": "execute_result",
          "data": {
            "text/plain": [
              "array([[7911,  162,  168,    0,    0,    0,    0,    0,    0,    0,    0,\n",
              "           0,    0,    0,    0,    0,    0,    0,    0,    0,    0,    0,\n",
              "           0,    0],\n",
              "       [ 426, 6019, 1832,    0,    0,    0,    0,    0,    0,    0,    0,\n",
              "           0,    0,    0,    0,    0,    0,    0,    0,    0,    0,    0,\n",
              "           0,    0],\n",
              "       [ 329, 2160, 5791,    0,    0,    0,    0,    0,    0,    0,    0,\n",
              "           0,    0,    0,    0,    0,    0,    0,    0,    0,    0,    0,\n",
              "           0,    0],\n",
              "       [   0,    0,    0, 8076,  127,  166,    0,    0,    0,    0,    0,\n",
              "           0,    0,    0,    0,    0,    0,    0,    0,    0,    0,    0,\n",
              "           0,    0],\n",
              "       [   0,    0,    0,  213, 6866, 1191,    0,    0,    0,    0,    0,\n",
              "           0,    0,    0,    0,    0,    0,    0,    0,    0,    0,    0,\n",
              "           0,    0],\n",
              "       [   0,    0,    0,  344, 1255, 6625,    0,    0,    0,    0,    0,\n",
              "           0,    0,    0,    0,    0,    0,    0,    0,    0,    0,    0,\n",
              "           0,    0],\n",
              "       [   0,    0,    0,    0,    0,    0, 8102,   66,   86,    0,    0,\n",
              "           0,    0,    0,    0,    0,    0,    0,    0,    0,    0,    0,\n",
              "           0,    0],\n",
              "       [   0,    0,    0,    0,    0,    0,  160, 7385,  711,    0,    0,\n",
              "           0,    0,    0,    0,    0,    0,    0,    0,    0,    0,    0,\n",
              "           0,    0],\n",
              "       [   0,    0,    0,    0,    0,    0,  277,  849, 7071,    0,    0,\n",
              "           0,    0,    0,    0,    0,    0,    0,    0,    0,    0,    0,\n",
              "           0,    0],\n",
              "       [   0,    0,    0,    0,    0,    0,    0,    0,    0, 8040,   86,\n",
              "         136,    0,    0,    0,    0,    0,    0,    0,    0,    0,    0,\n",
              "           0,    0],\n",
              "       [   0,    0,    0,    0,    0,    0,    0,    0,    0,  244, 6926,\n",
              "        1062,    0,    0,    0,    0,    0,    0,    0,    0,    0,    0,\n",
              "           0,    0],\n",
              "       [   0,    0,    0,    0,    0,    0,    0,    0,    0,  328, 1325,\n",
              "        6584,    0,    0,    0,    0,    0,    0,    0,    0,    0,    0,\n",
              "           0,    0],\n",
              "       [   0,    0,    0,    0,    0,    0,    0,    0,    0,    0,    0,\n",
              "           0, 8054,  203,    0,    0,    0,    0,    0,    0,    0,    0,\n",
              "           0,    0],\n",
              "       [   0,    0,    0,    0,    0,    0,    0,    0,    0,    0,    0,\n",
              "           0,  397, 7888,    0,    0,    0,    0,    0,    0,    0,    0,\n",
              "           0,    0],\n",
              "       [   0,    0,    0,    0,    0,    0,    0,    0,    0,    0,    0,\n",
              "           0,    0,    0, 8198,   75,   69,    0,    0,    0,    0,    0,\n",
              "           0,    0],\n",
              "       [   0,    0,    0,    0,    0,    0,    0,    0,    0,    0,    0,\n",
              "           0,    0,    0,  117, 7528,  673,    0,    0,    0,    0,    0,\n",
              "           0,    0],\n",
              "       [   0,    0,    0,    0,    0,    0,    0,    0,    0,    0,    0,\n",
              "           0,    0,    0,  179, 1188, 6957,    0,    0,    0,    0,    0,\n",
              "           0,    0],\n",
              "       [   0,    0,    0,    0,    0,    0,    0,    0,    0,    0,    0,\n",
              "           0,    0,    0,    0,    0,    0, 8272,   38,    0,    0,    0,\n",
              "           0,    0],\n",
              "       [   0,    0,    0,    0,    0,    0,    0,    0,    0,    0,    0,\n",
              "           0,    0,    0,    0,    0,    0,   52, 8294,    0,    0,    0,\n",
              "           0,    0],\n",
              "       [   0,    0,    0,    0,    0,    0,    0,    0,    0,    0,    0,\n",
              "           0,    0,    0,    0,    0,    0,    0,    0, 8270,    1,    0,\n",
              "           0,    0],\n",
              "       [   0,    0,    0,    0,    0,    0,    0,    0,    0,    0,    0,\n",
              "           0,    0,    0,    0,    0,    0,    0,    0,    0, 8377,    0,\n",
              "           0,    0],\n",
              "       [   0,    0,    0,    0,    0,    0,    0,    0,    0,    0,    0,\n",
              "           0,    0,    0,    0,    0,    0,    0,    0,    0,    6, 8265,\n",
              "           0,    0],\n",
              "       [   0,    0,    0,    0,    0,    0,    0,    0,    0,    0,    0,\n",
              "           0,    0,    0,    0,    0,    0,    0,    0,    0,    0,    0,\n",
              "        7830,  374],\n",
              "       [   0,    0,    0,    0,    0,    0,    0,    0,    0,    0,    0,\n",
              "           0,    0,    0,    0,    0,    0,    0,    0,    0,    0,    0,\n",
              "         704, 7425]])"
            ]
          },
          "metadata": {},
          "execution_count": 50
        }
      ]
    },
    {
      "cell_type": "code",
      "source": [
        "plt.figure(figsize = (14,6))\n",
        "sns.heatmap(cm_rf, annot = True)\n",
        "plt.show()"
      ],
      "metadata": {
        "colab": {
          "base_uri": "https://localhost:8080/",
          "height": 374
        },
        "id": "bkZ4QuRdbfEo",
        "outputId": "8f8ea5ab-a614-44cd-f71e-ab9abff620f0"
      },
      "execution_count": null,
      "outputs": [
        {
          "output_type": "display_data",
          "data": {
            "text/plain": [
              "<Figure size 1008x432 with 2 Axes>"
            ],
            "image/png": "[encoded data removed]"
          },
          "metadata": {
            "needs_background": "light"
          }
        }
      ]
    },
    {
      "cell_type": "code",
      "source": [
        "print(classification_report(y_test, y_pred_rf))"
      ],
      "metadata": {
        "colab": {
          "base_uri": "https://localhost:8080/"
        },
        "id": "YVhZ_sivblgo",
        "outputId": "925d2da5-8083-4556-cd65-980d7277ab7e"
      },
      "execution_count": null,
      "outputs": [
        {
          "output_type": "stream",
          "name": "stdout",
          "text": [
            "              precision    recall  f1-score   support\n",
            "\n",
            "           0       0.91      0.96      0.94      8241\n",
            "           1       0.72      0.73      0.72      8277\n",
            "           2       0.74      0.70      0.72      8280\n",
            "           3       0.94      0.96      0.95      8369\n",
            "           4       0.83      0.83      0.83      8270\n",
            "           5       0.83      0.81      0.82      8224\n",
            "           6       0.95      0.98      0.96      8254\n",
            "           7       0.89      0.89      0.89      8256\n",
            "           8       0.90      0.86      0.88      8197\n",
            "           9       0.93      0.97      0.95      8262\n",
            "          10       0.83      0.84      0.84      8232\n",
            "          11       0.85      0.80      0.82      8237\n",
            "          12       0.95      0.98      0.96      8257\n",
            "          13       0.97      0.95      0.96      8285\n",
            "          14       0.97      0.98      0.97      8342\n",
            "          15       0.86      0.91      0.88      8318\n",
            "          16       0.90      0.84      0.87      8324\n",
            "          17       0.99      1.00      0.99      8310\n",
            "          18       1.00      0.99      0.99      8346\n",
            "          19       1.00      1.00      1.00      8271\n",
            "          20       1.00      1.00      1.00      8377\n",
            "          21       1.00      1.00      1.00      8271\n",
            "          22       0.92      0.95      0.94      8204\n",
            "          23       0.95      0.91      0.93      8129\n",
            "\n",
            "    accuracy                           0.91    198533\n",
            "   macro avg       0.91      0.91      0.91    198533\n",
            "weighted avg       0.91      0.91      0.91    198533\n",
            "\n"
          ]
        }
      ]
    },
    {
      "cell_type": "code",
      "source": [
        "print(accuracy_score(y_test, y_pred_rf)*100)"
      ],
      "metadata": {
        "colab": {
          "base_uri": "https://localhost:8080/"
        },
        "id": "TJlPTEGRbnMf",
        "outputId": "1cda83e8-9d8a-4ea6-b9b6-8e756fd45139"
      },
      "execution_count": null,
      "outputs": [
        {
          "output_type": "stream",
          "name": "stdout",
          "text": [
            "91.04481370855223\n"
          ]
        }
      ]
    }
  ]
}