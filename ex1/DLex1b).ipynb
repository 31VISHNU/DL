{
  "nbformat": 4,
  "nbformat_minor": 0,
  "metadata": {
    "colab": {
      "provenance": []
    },
    "kernelspec": {
      "name": "python3",
      "display_name": "Python 3"
    },
    "language_info": {
      "name": "python"
    }
  },
  "cells": [
    {
      "cell_type": "code",
      "execution_count": null,
      "metadata": {
        "id": "u0twxUNXd3rG",
        "colab": {
          "base_uri": "https://localhost:8080/"
        },
        "outputId": "9c04f44c-89df-4cce-dd4d-09180de45ef2"
      },
      "outputs": [
        {
          "output_type": "stream",
          "name": "stdout",
          "text": [
            "True\n",
            "True\n",
            "False\n"
          ]
        }
      ],
      "source": [
        "import torch\n",
        "x = torch.tensor(1.0, requires_grad = True)\n",
        "print(x.requires_grad) \n",
        "y = x * 2\n",
        "print(y.requires_grad)\n",
        "with torch.no_grad():\n",
        "\ty = x * 2\n",
        "\tprint(y.requires_grad) "
      ]
    },
    {
      "cell_type": "code",
      "source": [
        "import torch\n",
        "x = torch.tensor(1.0, requires_grad = True)\n",
        "z = x ** 3\n",
        "z.backward() \n",
        "print(x.grad.data) "
      ],
      "metadata": {
        "colab": {
          "base_uri": "https://localhost:8080/"
        },
        "id": "QZfQcfW19fT6",
        "outputId": "2158aed9-a674-44a1-ac34-f4b0d896ee64"
      },
      "execution_count": null,
      "outputs": [
        {
          "output_type": "stream",
          "name": "stdout",
          "text": [
            "tensor(3.)\n"
          ]
        }
      ]
    },
    {
      "cell_type": "code",
      "source": [
        "x = torch.tensor([0.0, 2.0, 8.0], requires_grad = True)\n",
        "y = torch.tensor([5.0 , 1.0 , 7.0], requires_grad = True)\n",
        "z = x * y\n",
        "print(z.backward(torch.FloatTensor([1.0, 1.0, 1.0])))"
      ],
      "metadata": {
        "colab": {
          "base_uri": "https://localhost:8080/"
        },
        "id": "r8uIFC0j9qL9",
        "outputId": "71f3c1fd-d6c2-4e52-f285-de39f7e7f1e4"
      },
      "execution_count": null,
      "outputs": [
        {
          "output_type": "stream",
          "name": "stdout",
          "text": [
            "None\n"
          ]
        }
      ]
    },
    {
      "cell_type": "code",
      "source": [
        "import torch\n",
        "a = torch.tensor([2., 3.], requires_grad=True)\n",
        "b = torch.tensor([6., 4.], requires_grad=True)\n",
        "Q = 3*a**3 - b**2\n",
        "external_grad = torch.tensor([1., 1.])\n",
        "Q.backward(gradient=external_grad)\n",
        "print(9*a**2 == a.grad)\n",
        "print(-2*b == b.grad)"
      ],
      "metadata": {
        "colab": {
          "base_uri": "https://localhost:8080/"
        },
        "id": "M-Q2e_Yl-NAo",
        "outputId": "5e62741c-3302-428e-d35a-9e59ca32968e"
      },
      "execution_count": null,
      "outputs": [
        {
          "output_type": "stream",
          "name": "stdout",
          "text": [
            "tensor([True, True])\n",
            "tensor([True, True])\n"
          ]
        }
      ]
    }
  ]
}